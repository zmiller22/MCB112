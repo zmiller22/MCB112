{
 "cells": [
  {
   "cell_type": "markdown",
   "metadata": {},
   "source": [
    "# Problem set 8\n",
    "## \"The return of ten Arcs\"\n",
    "### Zachary Miller\n",
    "\n",
    "## Part 1: Generating postive control data\n",
    "We are suspicious about Lestrade's claim that all ten mRNA transcripts are expressed at the same level. In order to investigate, we want to generate some postive control data under the generative probability model laid out in Li and Dewey (2010) and see how well Lestrade's method performs. Below, we generate an example Arc Locus and then sample 1,000,000 reads from that Arc Locus. One thing to note is that I created to the structure of my simulator to actually generate the segements, and then calculate the read counts for each segement rather than just generating the read counts. I found this method was simpler to debug and ensure that data was actually being generated according to our generative probability model. "
   ]
  },
  {
   "cell_type": "code",
   "execution_count": 1,
   "metadata": {},
   "outputs": [],
   "source": [
    "import numpy as np\n",
    "from scipy.special import logsumexp\n",
    "import re\n",
    "import matplotlib.pyplot as plt\n",
    "import random\n",
    "import pandas as pd\n",
    "\n",
    "random.seed(42)\n",
    "%matplotlib inline\n",
    "\n",
    "def trans_to_nuc_abunds(trans_abunds_vec, trans_lengths_vec):\n",
    "    \"\"\"Given a vector of transcription abundances and a vector of transcript lengths, returns the nucelotide \n",
    "    abundances as a list\"\"\"\n",
    "    \n",
    "    if len(trans_abunds_vec) != len(trans_lengths_vec): return False\n",
    "    \n",
    "    num_transcripts = len(trans_abunds_vec)\n",
    "    nuc_abunds_list = np.multiply(trans_abunds_vec, trans_lengths_vec)\n",
    "    nuc_abunds_tot = sum(nuc_abunds_list)\n",
    "    nuc_abunds_list = np.true_divide(nuc_abunds_list, nuc_abunds_tot)\n",
    "    \n",
    "    return nuc_abunds_list\n",
    "\n",
    "def nuc_to_trans_abunds(nuc_abunds_vec, trans_lengths_vec):\n",
    "    \"\"\"Given a vector of nucleotide abundances and a vector of transcript lengths, returns the transcript\n",
    "    abundances as a list\"\"\"\n",
    "    \n",
    "    if len(nuc_abunds_vec) != len(trans_lengths_vec): return False\n",
    "    \n",
    "    num_transcripts = len(nuc_abunds_vec)\n",
    "    trans_abunds_list = np.true_divide(nuc_abunds_vec, trans_lengths_vec)\n",
    "    trans_abunds_tot = sum(trans_abunds_list)\n",
    "    trans_abunds_list = np.true_divide(trans_abunds_list, trans_abunds_tot)\n",
    "    \n",
    "    return trans_abunds_list\n",
    "\n",
    "def generate_rand_abunds_and_lens(trans_num, len_range):\n",
    "    \"\"\"Generates a (nearly) uniform random vector of transcript abundances using the dirichlet distribution, and \n",
    "    random lengths sampled from the range given by a tuple len_range. Both the transcript abundances and the lengths\n",
    "    vectors will have a number of elements equal to trans_num\"\"\"\n",
    "\n",
    "    abunds_list = list(np.random.dirichlet(np.ones(trans_num),size=1)[0])\n",
    "    lens_list = list(np.random.randint(len_range[0], len_range[1]+1, trans_num))\n",
    "    \n",
    "    return abunds_list, lens_list\n",
    "\n",
    "def create_arc(trans_lens_vec):\n",
    "    \"\"\"Given a vector of the transcripts lengths, generates a 2d list where the first index represents a \n",
    "    transcript, and the second index represents possible reads within that transcript\"\"\"\n",
    "    \n",
    "    trans_list = []\n",
    "    num_segs = len(trans_lens_vec)\n",
    "    seg_list = [i for i in range(num_segs)]\n",
    "    \n",
    "    for start_seg, trans_len in enumerate(trans_lens_vec):\n",
    "        end_seg = start_seg+trans_len\n",
    "        if end_seg > num_segs:\n",
    "            transcript = seg_list[start_seg:]+seg_list[:end_seg-num_segs]\n",
    "            trans_list.append(list(transcript))\n",
    "            \n",
    "        else: trans_list.append(seg_list[start_seg:end_seg])\n",
    "    \n",
    "    return trans_list\n",
    "\n",
    "def create_reads(trans_vec, trans_abunds_vec, trans_lens_vec, N):\n",
    "    \"\"\"Given a transcriptome trans_vec, samples N reads from that transcriptome according to the nucleotide \n",
    "    probabilities given by trans_abunds_vec and trans_lens_vec\"\"\"\n",
    "    \n",
    "    trans_num = len(trans_vec)\n",
    "    nuc_abunds_list = trans_to_nuc_abunds(trans_abunds_vec, trans_lens_vec)\n",
    "    reads_list = []\n",
    "    for i in range(N):\n",
    "        transcript_idx = np.random.choice(trans_num,p=nuc_abunds_list)\n",
    "        transcript = trans_vec[transcript_idx]\n",
    "        segment = np.random.choice(transcript)\n",
    "        reads_list.append(segment)\n",
    "        \n",
    "    return reads_list"
   ]
  },
  {
   "cell_type": "code",
   "execution_count": 2,
   "metadata": {},
   "outputs": [],
   "source": [
    "trans_abunds_list, trans_lens_list = generate_rand_abunds_and_lens(10, (2,4))\n",
    "transcript_list = create_arc(trans_lens_list)\n",
    "reads_list = create_reads(transcript_list, trans_abunds_list, trans_lens_list, 1000000)"
   ]
  },
  {
   "cell_type": "markdown",
   "metadata": {},
   "source": [
    "## Part 2: Testing Lestrade's method on the positive control data\n",
    "Now that we have generated read data for which we know the true transcript abundances and transcript lengths, we can see how well Lestrade's method performs on the read data. In addition to comparing the estimated parameters, we can also calculate the negative log-likelyhood of Lestrade's parameters and see how they compare to the negative log-likeyhood of the true parameters. We know that $P(S,T|\\vec{v},\\vec{L}) = P(S|T,\\vec{L})P(T|\\vec{v})$. If we want to find the total probability for a given segment S over all the transcript isofroms T, then we simply marginalize over T to get $P(S,\\vec{T}|\\vec{v},\\vec{L}) = \\sum_i P(S|T_i,L_i)P(T_i,v_i)$ (assuming the read maps perfectly to S). Now if we want likelyhood for all of the reads, then we get $$P(\\vec{S},\\vec{T}|\\vec{v},\\vec{L}) = \\prod_j \\sum_i P(S_j|T_i,L_i)P(T_i,v_i) \\\\=  \\prod_j \\sum_i \\frac{v_i}{L_i} I(S_j \\in T_i)$$ where $i$ is the transcript index and $j$ is the segment postition index. Lastly, we will work in logs for this calculation to avoid underflow. Calculating below..."
   ]
  },
  {
   "cell_type": "code",
   "execution_count": 3,
   "metadata": {},
   "outputs": [],
   "source": [
    "def calc_nll(reads_vec, trans_vec, trans_abunds_vec, trans_lens_vec):\n",
    "    \"\"\"Given the necessary parameters, calculates and returns the negative log-likelyhood of the transcript \n",
    "    abundances given by trans_abunds_vec\"\"\"\n",
    "    \n",
    "    nuc_abunds_list = trans_to_nuc_abunds(trans_abunds_vec, trans_lens_vec)\n",
    "    log_probs_list = []\n",
    "    unique_reads_arr, unique_read_counts_arr = np.unique(reads_vec, return_counts=True)\n",
    "    \n",
    "    # Iterate over each read\n",
    "    for read_idx, read in enumerate(unique_reads_arr):\n",
    "        read_prob_list = []\n",
    "        \n",
    "        # For each read, iterate over each transcript\n",
    "        for trans_idx, transcript in enumerate(trans_vec):\n",
    "            \n",
    "            # If the transcript contains the read sequence, calculate the probability that the read came from \n",
    "            # this transcript and add it to the probability list for this transcript. This implicitly sums \n",
    "            # over both S and T, but the if statement means we only get non-zero probabilities\n",
    "            if read in transcript:\n",
    "                prob = np.log(nuc_abunds_list[trans_idx]/trans_lens_vec[trans_idx])\n",
    "                read_prob_list.append(prob)\n",
    "        \n",
    "        # Add the total log probability for this unique read\n",
    "        total_read_log_prob = logsumexp(read_prob_list)*unique_read_counts_arr[read_idx]\n",
    "        log_probs_list.append(total_read_log_prob)\n",
    "        \n",
    "    total_nll = -1*np.sum(log_probs_list)\n",
    "    \n",
    "    return total_nll\n",
    "\n",
    "def get_lestrade_ests(reads_vec, trans_vec, trans_lens_vec):\n",
    "    \"\"\"Given the necessary parameters, impliments Lestrade's method and returns his transcript abundance \n",
    "    estimates\"\"\"\n",
    "    trans_num = len(trans_lens_vec)\n",
    "    trans_counts_list = [0]*trans_num\n",
    "    \n",
    "    # Iterate over each read\n",
    "    for read in reads_vec:\n",
    "        temp_counts = [0]*trans_num\n",
    "        \n",
    "        # For each read, add a count for each transcript that include the segment that generated the read\n",
    "        for idx, transcript in enumerate(trans_vec):\n",
    "            if read in transcript:\n",
    "                temp_counts[idx] += 1\n",
    "                \n",
    "        # Normalize the counts to add to 1\n",
    "        temp_tot = sum(temp_counts)\n",
    "        temp_counts = np.true_divide(temp_counts, temp_tot)\n",
    "        \n",
    "        # Add the count proportions for each read to the total counts list\n",
    "        trans_counts_list = np.add(trans_counts_list, temp_counts)\n",
    "    \n",
    "    counts_tot = sum(trans_counts_list)\n",
    "    est_nuc_abunds_list = np.true_divide(trans_counts_list, counts_tot)\n",
    "    est_trans_abunds_list = nuc_to_trans_abunds(est_nuc_abunds_list, trans_lens_vec)\n",
    "    \n",
    "    return est_trans_abunds_list\n",
    "        "
   ]
  },
  {
   "cell_type": "code",
   "execution_count": 4,
   "metadata": {},
   "outputs": [],
   "source": [
    "lestrade_trans_abunds_list = get_lestrade_ests(reads_list, transcript_list, trans_lens_list)\n",
    "true_nll = calc_nll(reads_list, transcript_list, trans_abunds_list, trans_lens_list)\n",
    "lestrade_nll = calc_nll(reads_list, transcript_list, lestrade_trans_abunds_list, trans_lens_list)"
   ]
  },
  {
   "cell_type": "code",
   "execution_count": 5,
   "metadata": {},
   "outputs": [
    {
     "name": "stdout",
     "output_type": "stream",
     "text": [
      "True transcript abundances:\n",
      "[0.13703927728060394, 0.4453969303507804, 0.03958212621058533, 0.03202213339999653, 0.013687791303994364, 0.007895564988538873, 0.10324925675162944, 0.038811351440190406, 0.1592172892529202, 0.023098279020760455]\n",
      "\n",
      "Lestrade's transcript abundances:\n",
      "[0.15174964 0.1585744  0.15384128 0.13750741 0.05089204 0.02805102\n",
      " 0.03723881 0.06424902 0.10614955 0.11174682]\n",
      "\n",
      "Difference:\n",
      "[0.01471036 0.28682253 0.11425916 0.10548528 0.03720425 0.02015546\n",
      " 0.06601045 0.02543767 0.05306773 0.08864855]\n",
      "\n",
      "\n",
      "Negative log-likelyhood of true parameters:\n",
      "2061889.6652640572\n",
      "\n",
      "Negative log-likelyhood of Lestrade's parameters:\n",
      "2091188.1726446727\n",
      "\n",
      "NLL difference: \n",
      "29298.507380615454\n"
     ]
    }
   ],
   "source": [
    "print(\"True transcript abundances:\")\n",
    "print(trans_abunds_list)\n",
    "print(\"\\nLestrade's transcript abundances:\")\n",
    "print(lestrade_trans_abunds_list)\n",
    "print(\"\\nDifference:\")\n",
    "print(np.abs(np.subtract(trans_abunds_list, lestrade_trans_abunds_list)))\n",
    "\n",
    "print(\"\\n\\nNegative log-likelyhood of true parameters:\")\n",
    "print(true_nll)\n",
    "print(\"\\nNegative log-likelyhood of Lestrade's parameters:\")\n",
    "print(lestrade_nll)\n",
    "print(\"\\nNLL difference: \")\n",
    "print(np.abs(true_nll-lestrade_nll))"
   ]
  },
  {
   "cell_type": "markdown",
   "metadata": {},
   "source": [
    "We can see that Lestrade's transcript abundances are quite different from the true transcript abundances. On it's own, this could of course just mean that this is a very hard problem to solve, and Lestrade's estimates are just as good as it is possible to get. However, when we compare the NLL's, we can see that Lestrade's estimates are *far* less likely than the true parameters (keeping in mind that we would exponentiate the NLL difference to get the likelyhood ratio). This tells us that we may be able to get better parameters by optimizing the NLL. To do this, we will use the expectation maximization algorithm. \n",
    "\n",
    "## Part 3: Estimating the transcript isofrom abundances with EM\n",
    "To see if EM can do a better job than Lestrade's method, let's run the EM algorithm on the postive control data and see how it performs."
   ]
  },
  {
   "cell_type": "code",
   "execution_count": 6,
   "metadata": {},
   "outputs": [],
   "source": [
    "def read_data_from_file(file_name):\n",
    "    \"\"\"TAKEN FROM LESTRADE AND ADAPTED FOR OUR PURPOSES. Reads a data table of the format output by Lestrade and \n",
    "    returns the read counts and transcript lengths\"\"\"\n",
    "    with open(file_name) as f:\n",
    "        #   The first line is \"The <n> transcripts of the sand mouse Arc locus\"\n",
    "        line  = f.readline()\n",
    "        match = re.search(r'^The (\\d+) transcripts', line)\n",
    "        T     = int(match.group(1))\n",
    "\n",
    "        # The next T lines are \n",
    "        #   <Arcn>  <true_tau> <L> <structure>\n",
    "        # tau's may be present, or obscured (\"xxxxx\")\n",
    "        tau       = np.zeros(T)\n",
    "        L         = np.zeros(T).astype(int)\n",
    "        tau_known = True   # until we see otherwise\n",
    "        for i in range(T):\n",
    "            fields    = f.readline().split()\n",
    "            if fields[1] == \"xxxxx\":\n",
    "                tau_known = False\n",
    "            else:\n",
    "                tau[i] = float(fields[1])\n",
    "            L[i]      = int(fields[2])\n",
    "\n",
    "        # after a blank line,\n",
    "        # 'The <n> read sequences':\n",
    "        line  = f.readline()\n",
    "        line  = f.readline()\n",
    "        match = re.search(r'The (\\d+) read sequences', line)\n",
    "        N     = int(match.group(1))\n",
    "\n",
    "        # the next T lines are \n",
    "        #  <read a-j> <count>\n",
    "        r = np.zeros(T).astype(int)\n",
    "        for k in range(T):\n",
    "            fields = f.readline().split()\n",
    "            r[k]   = fields[1]\n",
    "            \n",
    "    read_counts_list = list(r)\n",
    "    \n",
    "    return(read_counts_list, L)\n",
    "\n",
    "def run_EM_optimization(reads_vec, trans_vec, trans_lens_vec, N):\n",
    "    \"\"\"\"\"\"\n",
    "    #TODO add a NLL tracker that checks every 100 iterations whether or not it has converged. Plan is to have a\n",
    "    # max number of iterations that can be shortcut when the NLL is static\n",
    "    initial_trans_abunds = generate_rand_abunds_and_lens(len(trans_lens_vec), (1,1))[0]\n",
    "        \n",
    "    nuc_abunds_list = nuc_to_trans_abunds(initial_trans_abunds, trans_lens_vec)\n",
    "    trans_num = len(trans_lens_vec)\n",
    "    unique_reads_arr, unique_read_counts_arr = np.unique(reads_vec, return_counts=True)\n",
    "    nll_list = [-1]\n",
    "    \n",
    "    for iteration in range(N):\n",
    "        count_arr = np.zeros(10)\n",
    "\n",
    "        # Iterate over each read\n",
    "        for read_idx, read in enumerate(unique_reads_arr):\n",
    "            read_prob_list = []\n",
    "            idx_list = []\n",
    "            # For each read, iterate over each transcript\n",
    "            for trans_idx, transcript in enumerate(trans_vec):\n",
    "                # If the read is present in the transcript, add its log probability numerator to read_prob_list\n",
    "                if read in transcript:\n",
    "                    idx_list.append(trans_idx)\n",
    "                    numer = np.log(nuc_abunds_list[trans_idx]/trans_lens_vec[trans_idx])\n",
    "                    read_prob_list.append(numer)\n",
    "\n",
    "            # Normalize the probabilities by subtracting the log probability of the denominator from each element \n",
    "            # of read_prob_list\n",
    "            denom = logsumexp(read_prob_list)\n",
    "            read_prob_list = np.subtract(read_prob_list, denom)\n",
    "\n",
    "            # Add the exponentiated probabilities to the cooresponding transcript count in count_arr\n",
    "            total_read_counts = np.multiply(np.exp(read_prob_list),unique_read_counts_arr[read_idx])\n",
    "            np.add.at(count_arr, idx_list, total_read_counts)\n",
    "            \n",
    "        # Get nucleotide abunces from counts, then record the corresponding transcript abundances\n",
    "        new_nuc_abunds = np.divide(count_arr, np.sum(count_arr))\n",
    "        nuc_abunds_list = new_nuc_abunds\n",
    "        final_trans_abunds_list = nuc_to_trans_abunds(nuc_abunds_list, trans_lens_vec)\n",
    "\n",
    "        # Keep track of the NLL every 100 iterations. If the NLL has not changed more that 0.01 in the last 100\n",
    "        # iterations, stop iterating and report the current transcript abundance estimates\n",
    "        if iteration%100 == 0:\n",
    "                nll = calc_nll(reads_vec, trans_vec, final_trans_abunds_list, trans_lens_vec)\n",
    "\n",
    "                if nll_list[0] == -1:\n",
    "                    nll_list[0] = nll\n",
    "\n",
    "                elif np.abs(np.subtract(nll_list[-1], nll)) < 0.01:\n",
    "                    nll_list.append(nll)\n",
    "                    print(\"Number of Iterations: \" + str(iteration))\n",
    "                    return final_trans_abunds_list, nll_list\n",
    "\n",
    "                else: nll_list.append(nll)\n",
    "\n",
    "    print(\"Number of Iterations: \" + str(N))\n",
    "    \n",
    "    return final_trans_abunds_list, nll_list\n",
    "\n",
    "            \n",
    "            "
   ]
  },
  {
   "cell_type": "code",
   "execution_count": 7,
   "metadata": {},
   "outputs": [
    {
     "name": "stdout",
     "output_type": "stream",
     "text": [
      "Number of Iterations: 1000\n"
     ]
    }
   ],
   "source": [
    "em_est_abunds_arr, em_nll_list = run_EM_optimization(reads_list, transcript_list, trans_lens_list, 5000)"
   ]
  },
  {
   "cell_type": "code",
   "execution_count": 8,
   "metadata": {},
   "outputs": [
    {
     "data": {
      "image/png": "[encoded data removed]",
      "text/plain": [
       "<Figure size 720x432 with 1 Axes>"
      ]
     },
     "metadata": {
      "needs_background": "light"
     },
     "output_type": "display_data"
    }
   ],
   "source": [
    "# Plot the NLL over the iterations\n",
    "plt.figure(figsize=(10,6))\n",
    "plt.plot(em_nll_list)\n",
    "plt.xlabel(\"Iteration (in 100s)\")\n",
    "plt.ylabel(\"NLL\")\n",
    "plt.title(\"NLL of estimated transcript abundances over EM iterations\")\n",
    "plt.show()"
   ]
  },
  {
   "cell_type": "code",
   "execution_count": 9,
   "metadata": {},
   "outputs": [
    {
     "name": "stdout",
     "output_type": "stream",
     "text": [
      "True transcript abundances:\n",
      "[0.13703927728060394, 0.4453969303507804, 0.03958212621058533, 0.03202213339999653, 0.013687791303994364, 0.007895564988538873, 0.10324925675162944, 0.038811351440190406, 0.1592172892529202, 0.023098279020760455]\n",
      "\n",
      "EM transcript abundances:\n",
      "[0.13660421722228583, 0.4469908600644412, 0.03661646350730236, 0.033659474748151764, 0.012440549178221188, 0.009006253315964859, 0.10354763403615472, 0.03858866574309242, 0.1595251335819148, 0.023020748602470754]\n",
      "\n",
      "Difference:\n",
      "[4.35060058e-04 1.59392971e-03 2.96566270e-03 1.63734135e-03\n",
      " 1.24724213e-03 1.11068833e-03 2.98377285e-04 2.22685697e-04\n",
      " 3.07844329e-04 7.75304183e-05]\n",
      "\n",
      "\n",
      "Negative log-likelyhood of true parameters:\n",
      "2061889.6652640572\n",
      "\n",
      "Negative log-likelyhood EM parameters:\n",
      "2061888.0727601387\n",
      "\n",
      "NLL difference: \n",
      "1.5925039185676724\n"
     ]
    }
   ],
   "source": [
    "print(\"True transcript abundances:\")\n",
    "print(trans_abunds_list)\n",
    "print(\"\\nEM transcript abundances:\")\n",
    "print(list(em_est_abunds_arr))\n",
    "print(\"\\nDifference:\")\n",
    "print(np.abs(np.subtract(trans_abunds_list, em_est_abunds_arr)))\n",
    "\n",
    "print(\"\\n\\nNegative log-likelyhood of true parameters:\")\n",
    "print(true_nll)\n",
    "print(\"\\nNegative log-likelyhood EM parameters:\")\n",
    "print(em_nll_list[-1])\n",
    "print(\"\\nNLL difference: \")\n",
    "print(np.abs(true_nll-em_nll_list[-1]))"
   ]
  },
  {
   "cell_type": "markdown",
   "metadata": {},
   "source": [
    "As you can see above, EM clearly performs much better than Letsrade's method, both is the accuracy of its parameter estimates and in the NLL of its parameter estimates. This is also good evidence that our generative probability model is a fairly good one, since closer parameter values also produced closer NLL values. \n",
    "\n",
    "Now that we are confident that our EM algorithm works, let's test EM on that actual data that Lestrade was trying to get transcript isofrom abundances for."
   ]
  },
  {
   "cell_type": "code",
   "execution_count": 10,
   "metadata": {},
   "outputs": [
    {
     "name": "stdout",
     "output_type": "stream",
     "text": [
      "Number of Iterations: 1600\n"
     ]
    }
   ],
   "source": [
    "# Gather the parameters needed for EM optimization of the actual data\n",
    "read_counts_list, trans_lens_list = read_data_from_file(\"w08-data.out\")\n",
    "reads_list = []\n",
    "\n",
    "for read_idx, read_count in enumerate(read_counts_list):\n",
    "    reads_list += [read_idx]*read_count\n",
    "    \n",
    "arc_transcript_list = create_arc(trans_lens_list)\n",
    "\n",
    "# Run the EM optimization\n",
    "my_est_abunds_arr, nll_list = run_EM_optimization(reads_list, arc_transcript_list, trans_lens_list, 5000)"
   ]
  },
  {
   "cell_type": "code",
   "execution_count": 11,
   "metadata": {},
   "outputs": [
    {
     "data": {
      "image/png": "[encoded data removed]",
      "text/plain": [
       "<Figure size 720x432 with 1 Axes>"
      ]
     },
     "metadata": {
      "needs_background": "light"
     },
     "output_type": "display_data"
    }
   ],
   "source": [
    "# Plot the NLL over the iterations\n",
    "plt.figure(figsize=(10,6))\n",
    "plt.plot(nll_list)\n",
    "plt.xlabel(\"Iteration (in 100s)\")\n",
    "plt.ylabel(\"NLL\")\n",
    "plt.title(\"NLL of estimated transcript abundances over EM iterations\")\n",
    "plt.show()"
   ]
  },
  {
   "cell_type": "code",
   "execution_count": 12,
   "metadata": {},
   "outputs": [
    {
     "name": "stdout",
     "output_type": "stream",
     "text": [
      "My estimated transcript abundances:\n",
      "[0.05255061827185243, 0.09783664085955299, 0.06298480982962416, 0.11650982305357578, 0.04397523035489666, 0.3024092631691933, 0.0023079764120179157, 0.07361977833843916, 0.061161359798388534, 0.186644499912459]\n",
      "\n",
      "Lestrade's estimated transcript abundances:\n",
      "[0.0896395  0.09112976 0.07383159 0.10491783 0.11192892 0.12457224\n",
      " 0.11018329 0.08591525 0.09649783 0.11138378]\n",
      "\n",
      "Difference:\n",
      "[0.03708889 0.00670688 0.01084678 0.01159199 0.06795369 0.17783703\n",
      " 0.10787531 0.01229547 0.03533647 0.07526072]\n",
      "\n",
      "\n",
      "Negative log-likelyhood of my parameters:\n",
      "2238099.539384689\n",
      "\n",
      "Negative log-likelyhood of Lestrade's parameters:\n",
      "2253910.9353717305\n",
      "\n",
      "NLL difference: \n",
      "15811.395987041295\n"
     ]
    }
   ],
   "source": [
    "lestrade_est_abunds_list = get_lestrade_ests(reads_list, arc_transcript_list, trans_lens_list)\n",
    "my_nll = calc_nll(reads_list, arc_transcript_list, my_est_abunds_arr, trans_lens_list)\n",
    "lestrade_nll = calc_nll(reads_list, arc_transcript_list, lestrade_est_abunds_list, trans_lens_list)\n",
    "print(\"My estimated transcript abundances:\")\n",
    "print(list(my_est_abunds_arr))\n",
    "print(\"\\nLestrade's estimated transcript abundances:\")\n",
    "print(lestrade_est_abunds_list)\n",
    "print(\"\\nDifference:\")\n",
    "print(np.abs(np.subtract(my_est_abunds_arr, lestrade_est_abunds_list)))\n",
    "\n",
    "print(\"\\n\\nNegative log-likelyhood of my parameters:\")\n",
    "print(my_nll)\n",
    "print(\"\\nNegative log-likelyhood of Lestrade's parameters:\")\n",
    "print(lestrade_nll)\n",
    "print(\"\\nNLL difference: \")\n",
    "print(np.abs(my_nll-lestrade_nll))"
   ]
  },
  {
   "cell_type": "code",
   "execution_count": 13,
   "metadata": {},
   "outputs": [
    {
     "name": "stdout",
     "output_type": "stream",
     "text": [
      "     Arc  Est. Abundance\n",
      "0   Arc1        0.052551\n",
      "1   Arc2        0.097837\n",
      "2   Arc3        0.062985\n",
      "3   Arc4        0.116510\n",
      "4   Arc5        0.043975\n",
      "5   Arc6        0.302409\n",
      "6   Arc7        0.002308\n",
      "7   Arc8        0.073620\n",
      "8   Arc9        0.061161\n",
      "9  Arc10        0.186644\n",
      "Most expressed 2 arcs: [10, 6] make up 0.48905376308165227 percent of transcripts\n",
      "Least expressed 2 arcs: [7, 5] make up 0.046283206766914574 percent of transcripts\n"
     ]
    }
   ],
   "source": [
    "# Display our final Arc abundance estimates\n",
    "names_list = [\"Arc\"+str(i+1) for i in range(len(trans_lens_list))]\n",
    "data = {\"Arc\":names_list, \"Est. Abundance\":list(my_est_abunds_arr)}\n",
    "df = pd.DataFrame(data)\n",
    "print(df)\n",
    "\n",
    "sorted_trans_abunds_list = my_est_abunds_arr\n",
    "sorted_trans_abunds_list = np.sort(sorted_trans_abunds_list)\n",
    "max_2_trans = [np.where(my_est_abunds_arr == sorted_trans_abunds_list[-2])[0][0]+1, \n",
    "               np.where(my_est_abunds_arr == sorted_trans_abunds_list[-1])[0][0]+1]\n",
    "min_2_trans = [np.where(my_est_abunds_arr == sorted_trans_abunds_list[0])[0][0]+1, \n",
    "               np.where(my_est_abunds_arr == sorted_trans_abunds_list[1])[0][0]+1]\n",
    "\n",
    "print(\"Most expressed 2 arcs: \" + str(max_2_trans) + \" make up \" + \n",
    "      str(sorted_trans_abunds_list[-2] + sorted_trans_abunds_list[-1]) + \" percent of transcripts\")\n",
    "\n",
    "print(\"Least expressed 2 arcs: \" + str(min_2_trans) + \" make up \" + \n",
    "      str(sorted_trans_abunds_list[0] + sorted_trans_abunds_list[1]) + \" percent of transcripts\")"
   ]
  },
  {
   "cell_type": "markdown",
   "metadata": {},
   "source": [
    "As expected, we see that our trascript isoform abundance estimates are quite different from Lestrade's, and also much more likely. It is also quite clear that the transcript isofrom abundances are not nearly uniform, as Lestrade claims. For example, from our estimates it appears that Arc6 is expressed at a rate about 150 times higher than Arc7. Therefore, we find that Lestrade's conlcusions are incorrect. Arc6 and Arc10 are the most abundant transcripts, accounting for amost half of all transcriptions, while Arc5 and Arc7 are the smallest two transcripts, making up less than 5% of all transcriptions."
   ]
  }
 ],
 "metadata": {
  "kernelspec": {
   "display_name": "Python 3",
   "language": "python",
   "name": "python3"
  },
  "language_info": {
   "codemirror_mode": {
    "name": "ipython",
    "version": 3
   },
   "file_extension": ".py",
   "mimetype": "text/x-python",
   "name": "python",
   "nbconvert_exporter": "python",
   "pygments_lexer": "ipython3",
   "version": "3.7.3"
  }
 },
 "nbformat": 4,
 "nbformat_minor": 2
}

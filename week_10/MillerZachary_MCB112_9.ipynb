{
 "cells": [
  {
   "cell_type": "code",
   "execution_count": 10,
   "metadata": {},
   "outputs": [],
   "source": [
    "import numpy as np\n",
    "import matplotlib.pyplot as plt"
   ]
  },
  {
   "cell_type": "code",
   "execution_count": 2,
   "metadata": {},
   "outputs": [],
   "source": [
    "def gen_pc_data(N, M, R, percent_moonlight):\n",
    "    \n",
    "    # First generate W\n",
    "    W = np.zeros((N,R))\n",
    "    moonlight_genes = np.random.uniform(0,1,N)\n",
    "    moonlight_genes = moonlight_genes<percent_moonlight\n",
    "    \n",
    "    # Pick the modules for each gene\n",
    "    for gene_idx in range(N):\n",
    "        if moonlight_genes[gene_idx]:\n",
    "            num_mods = np.random.randint(2,R+1)\n",
    "            gene_mods = np.random.randint(0,R,num_mods)\n",
    "            W[gene_idx, gene_mods] = 1\n",
    "        else: \n",
    "            gene_mod = np.random.randint(0,R)\n",
    "            W[gene_idx, gene_mod] = 1\n",
    "    # Pick the relative expression levels of each gene for each module\n",
    "    for mod_idx in range(R):\n",
    "        # Handel the case where a module has no genes (very unlikely for N >> R)\n",
    "        if W[:,mod_idx].sum() == 0:\n",
    "            W[np.random.randint(0,N),mod_idx] = 1\n",
    "            \n",
    "        else:\n",
    "            col_arr = W[:,mod_idx]\n",
    "            col_sum = int(col_arr.sum())\n",
    "            dir_params = np.ones(col_sum)\n",
    "            gene_expressions_arr = np.random.dirichlet(dir_params)\n",
    "            idx_arr = np.argwhere(col_arr != 0)\n",
    "            col_arr[idx_arr] = gene_expressions_arr[:,np.newaxis]\n",
    "            W[:, mod_idx] = col_arr\n",
    "            \n",
    "    # Then generate H\n",
    "    H = np.ones((R,M))\n",
    "    H = np.apply_along_axis(np.random.dirichlet, 0, H)\n",
    "    \n",
    "    # Now generate V from W and H\n",
    "    V = 1e6*np.matmul(W, H)\n",
    "    V = np.random.poisson(V)\n",
    "            \n",
    "    return W, H, V"
   ]
  },
  {
   "cell_type": "code",
   "execution_count": 3,
   "metadata": {},
   "outputs": [],
   "source": [
    "# Generate simulated data where we are observing 100 genes in 60 samples with 5 gene batteries and ~5 percent\n",
    "# of genes are moonlighting genes\n",
    "W1_true, H1_true, V1 = gen_pc_data(100,60,3,0.2)\n",
    "W2_true, H2_true, V2 = gen_pc_data(100,60,3,0.05)\n",
    "W3_true, H3_true, V3 = gen_pc_data(100,60,3,0)"
   ]
  },
  {
   "cell_type": "code",
   "execution_count": 4,
   "metadata": {},
   "outputs": [],
   "source": [
    "def iterate_NMF(V, R, N):\n",
    "    \n",
    "    iteration_num_list = []\n",
    "    dims = V.shape\n",
    "    C = V.sum(axis=0)\n",
    "    C = C[np.newaxis,:]\n",
    "    \n",
    "    best_LL = -1\n",
    "    best_W = -1\n",
    "    best_H = -1\n",
    "    \n",
    "    for epoch in range(N):\n",
    "        \n",
    "        # Initiate random W and H\n",
    "        epoch_W, epoch_H = np.ones((dims[0],R)), np.ones((R,dims[1]))\n",
    "        epoch_W = np.apply_along_axis(np.random.dirichlet, 0, epoch_W)\n",
    "        epoch_H = np.apply_along_axis(np.random.dirichlet, 0, epoch_H)\n",
    "        epoch_LL = -1\n",
    "\n",
    "        for iteration in range(100000):\n",
    "\n",
    "            # Get matrices for W and H update\n",
    "            Lamda = np.multiply(C,np.matmul(epoch_W,epoch_H))\n",
    "            P = np.divide(V, Lamda)\n",
    "            CH = np.multiply(C,epoch_H)\n",
    "\n",
    "            # Broadcast into higher dimensions and perform element-wise multiplication for W update\n",
    "            P_3d = P[:,np.newaxis,:]\n",
    "            CH_3d = CH[np.newaxis,:,:]\n",
    "            L_W = np.multiply(P_3d,CH_3d).sum(axis=2)\n",
    "\n",
    "            # Get new W\n",
    "            W_new = np.multiply(epoch_W,L_W)\n",
    "            norm_term = W_new.sum(axis=0)[np.newaxis,:]\n",
    "            W_new = np.divide(W_new,norm_term)\n",
    "\n",
    "            # Broadcast into higher dimensions and perform element-wise multiplication for H update\n",
    "            W_3d = epoch_W[:,:,np.newaxis]\n",
    "            L_H = np.multiply(P_3d,W_3d).sum(axis=0)\n",
    "\n",
    "            # Get new H\n",
    "            H_new = np.multiply(epoch_H,L_H)\n",
    "\n",
    "            # Update W and H\n",
    "            epoch_W = W_new\n",
    "            epoch_H = H_new\n",
    "            \n",
    "            # Calculate the negative log likelyhood and end iteration if it has not changed significantly\n",
    "            if iteration%100 == 0:\n",
    "                iteration_LL = np.sum(np.subtract(np.multiply(V, np.log(Lamda)), Lamda))\n",
    "                \n",
    "                if epoch_LL == -1:\n",
    "                    epoch_LL = iteration_LL\n",
    "                    \n",
    "                elif np.abs(np.subtract(iteration_LL, epoch_LL)) < 0.1:\n",
    "                    epoch_LL = iteration_LL\n",
    "                    iteration_num_list.append(iteration)\n",
    "                    break\n",
    "                \n",
    "                else: epoch_LL = iteration_LL\n",
    "         \n",
    "        # Update the best parameters if the log-likelyhood is better\n",
    "        if epoch_LL > best_LL or best_LL == -1:\n",
    "            best_LL = epoch_LL\n",
    "            best_W = epoch_W\n",
    "            best_H = epoch_H\n",
    "\n",
    "    return best_W, best_H, best_LL, iteration_num_list\n",
    "\n",
    "def find_best_fit_r(V, R_range_vec, N):\n",
    "    W_list = []\n",
    "    H_list = []\n",
    "    LL_list = []\n",
    "    \n",
    "    for R in range(R_range_vec[0],R_range_vec[1]+1):\n",
    "        results = iterate_NMF(V, R, N)\n",
    "        W_list.append(results[0])\n",
    "        H_list.append(results[1])\n",
    "        LL_list.append(results[2])\n",
    "        \n",
    "    return W_list, H_list, LL_list\n",
    "    "
   ]
  },
  {
   "cell_type": "code",
   "execution_count": 5,
   "metadata": {},
   "outputs": [],
   "source": [
    "test_1 = find_best_fit_r(V1, (3,6), 5)\n",
    "test_2 = find_best_fit_r(V2, (3,6), 5)\n",
    "test_3 = find_best_fit_r(V3, (3,6), 5)"
   ]
  },
  {
   "cell_type": "code",
   "execution_count": 6,
   "metadata": {},
   "outputs": [
    {
     "name": "stdout",
     "output_type": "stream",
     "text": [
      "[[ 56.65873321 159.46354873  98.60171215 ... 224.58736809 367.95271392\n",
      "  244.77677242]\n",
      " [224.85811856 139.07386407 107.6076536  ...  27.3566821   16.78638887\n",
      "   49.03112452]\n",
      " [ 12.92686767  79.01089751  21.84342772 ...  26.66812826  32.43638249\n",
      "   16.0751336 ]\n",
      " ...\n",
      " [ 27.8280846   99.37041231  53.30303765 ...  49.8028319   33.79935804\n",
      "   47.83389497]\n",
      " [ 63.77903127  37.83372974 266.58249998 ... 173.03054663  19.12150188\n",
      "  187.37186526]\n",
      " [ 18.77349248 186.04480332   7.33016943 ...  46.89195823  94.75829256\n",
      "  165.35965972]]\n",
      "[[3.22103399e+01 1.12707707e+02 3.00656263e+01 ... 2.63876548e+02\n",
      "  2.58453411e+02 2.19055996e+02]\n",
      " [1.82471857e+02 1.11292983e+02 7.69338899e+01 ... 6.72551920e+00\n",
      "  1.01377791e+00 2.96439560e+01]\n",
      " [4.07826769e-01 7.94530940e+01 1.89058207e+01 ... 7.06620387e+00\n",
      "  1.30877387e+01 4.33924968e+01]\n",
      " ...\n",
      " [1.72659224e+01 1.01211371e+02 4.91685123e+01 ... 4.94505033e+01\n",
      "  2.44564729e+01 5.67509105e+01]\n",
      " [7.69758104e+01 3.62898891e+01 2.68069329e+02 ... 1.73357263e+02\n",
      "  1.38098712e-01 1.80913111e+02]\n",
      " [6.81763217e+01 1.71502858e+02 2.40849389e+01 ... 5.13559686e+01\n",
      "  1.18450548e+02 1.17515094e+02]]\n",
      "382525.62224103836\n",
      "363199.58499070886\n"
     ]
    }
   ],
   "source": [
    "# So for these r=3 definetly looks better...\n",
    "print(np.abs(1e6*np.matmul(test_1[0][0],test_1[1][0])-V1))\n",
    "print(np.abs(1e6*np.matmul(test_1[0][3],test_1[1][3])-V1))\n",
    "# But the sum for r=6 is lower..?\n",
    "print(np.sum(np.abs(1e6*np.matmul(test_1[0][0],test_1[1][0])-V1)))\n",
    "print(np.sum(np.abs(1e6*np.matmul(test_1[0][3],test_1[1][3])-V1)))"
   ]
  },
  {
   "cell_type": "code",
   "execution_count": 7,
   "metadata": {},
   "outputs": [
    {
     "name": "stdout",
     "output_type": "stream",
     "text": [
      "[[1.40089814e+02 6.50169178e+01 7.15459454e+01 ... 2.46652019e+02\n",
      "  2.38939769e+00 2.32614623e+00]\n",
      " [7.76460323e+01 2.95130742e+02 1.62403995e+01 ... 8.02502464e+01\n",
      "  7.62607005e-01 4.10076680e+00]\n",
      " [1.45940309e+02 6.04858010e+01 4.59380670e+01 ... 5.96137126e+01\n",
      "  3.63200645e+00 3.63370689e-01]\n",
      " ...\n",
      " [1.08935616e+02 3.84102467e+01 7.24613398e+00 ... 9.39403623e+01\n",
      "  4.76537582e+00 2.41210233e+00]\n",
      " [1.14949567e+01 2.13125563e+02 7.44350275e+01 ... 6.81051373e+00\n",
      "  1.44097956e+02 3.18993334e+01]\n",
      " [4.91409088e+00 2.94770400e-01 1.41635452e+02 ... 1.54880173e+01\n",
      "  2.01129052e+02 1.76129516e+02]]\n",
      "[[1.42046241e+02 6.20816142e+01 5.92747778e+01 ... 2.42249662e+02\n",
      "  4.02486782e+00 2.78866086e+00]\n",
      " [7.39488493e+01 2.97718446e+02 9.57823047e+00 ... 7.68583841e+01\n",
      "  2.10824106e-01 2.43707337e+00]\n",
      " [1.43398136e+02 5.92380215e+01 4.54289660e+01 ... 5.33222433e+01\n",
      "  4.41616427e+00 2.02976474e-02]\n",
      " ...\n",
      " [1.11805776e+02 3.97530318e+01 1.72046902e+01 ... 9.15866211e+01\n",
      "  1.51656800e+00 5.16643820e-01]\n",
      " [1.17984767e+01 2.19586308e+02 5.63346318e+01 ... 9.20831637e+00\n",
      "  1.53086319e+02 1.10010636e+02]\n",
      " [5.03883229e+00 1.15975542e+00 1.50084613e+02 ... 1.58705313e+01\n",
      "  2.19555210e+02 1.58682091e+02]]\n",
      "396147.20286737\n",
      "376488.414044774\n"
     ]
    }
   ],
   "source": [
    "# So for these r=3 definetly looks better...\n",
    "print(np.abs(1e6*np.matmul(test_2[0][0],test_2[1][0])-V2))\n",
    "print(np.abs(1e6*np.matmul(test_2[0][3],test_2[1][3])-V2))\n",
    "# But the sum for r=6 is lower..?\n",
    "print(np.sum(np.abs(1e6*np.matmul(test_2[0][0],test_2[1][0])-V2)))\n",
    "print(np.sum(np.abs(1e6*np.matmul(test_2[0][3],test_2[1][3])-V2)))"
   ]
  },
  {
   "cell_type": "code",
   "execution_count": 8,
   "metadata": {},
   "outputs": [
    {
     "name": "stdout",
     "output_type": "stream",
     "text": [
      "[[8.74932347e-02 1.15486836e+02 2.63317809e+01 ... 6.65507897e+01\n",
      "  4.19960444e+00 1.43177219e+02]\n",
      " [5.68506960e+00 2.97440972e+01 6.07459612e+01 ... 7.77442340e+01\n",
      "  1.24609897e+02 1.10284586e+02]\n",
      " [1.89544334e+02 1.50262441e+02 1.71552322e+01 ... 2.58381280e+02\n",
      "  1.63452964e+01 1.53543139e+02]\n",
      " ...\n",
      " [1.28973604e+02 7.26695183e+01 2.35817094e+01 ... 1.47177104e+01\n",
      "  5.67470016e+01 2.80776154e+02]\n",
      " [6.55448760e+01 8.32769953e+01 4.35209957e+01 ... 1.07636921e+02\n",
      "  1.88683603e+01 2.20886264e+02]\n",
      " [1.31260166e+01 6.22461211e+00 2.51058928e+01 ... 2.87346137e+01\n",
      "  1.83258745e+01 3.75509813e+01]]\n",
      "[[  4.68776044 105.62675421  24.38912042 ...  75.34191368  30.95062484\n",
      "  131.82206335]\n",
      " [ 10.87081712  49.33639147  65.90392838 ...  67.81276738  88.90996274\n",
      "   64.27319876]\n",
      " [184.60983925 132.6310775    9.16266774 ... 246.47319008   9.3522187\n",
      "  200.79437298]\n",
      " ...\n",
      " [135.9384065   71.90094401  24.25513978 ...   7.03451562  25.40329429\n",
      "  278.05667896]\n",
      " [ 49.5810995   49.61190395   8.57741209 ...  63.20243301  20.87989143\n",
      "  155.67066718]\n",
      " [ 14.21193913  18.58978592  20.95631433 ...  24.09766234   0.4683293\n",
      "   10.05274107]]\n",
      "378485.3955587548\n",
      "361283.9061059597\n"
     ]
    }
   ],
   "source": [
    "# So for these r=3 definetly looks better...\n",
    "print(np.abs(1e6*np.matmul(test_3[0][0],test_3[1][0])-V3))\n",
    "print(np.abs(1e6*np.matmul(test_3[0][3],test_3[1][3])-V3))\n",
    "# But the sum for r=6 is lower..?\n",
    "print(np.sum(np.abs(1e6*np.matmul(test_3[0][0],test_3[1][0])-V3)))\n",
    "print(np.sum(np.abs(1e6*np.matmul(test_3[0][3],test_3[1][3])-V3)))"
   ]
  },
  {
   "cell_type": "code",
   "execution_count": 9,
   "metadata": {},
   "outputs": [
    {
     "ename": "NameError",
     "evalue": "name 'test' is not defined",
     "output_type": "error",
     "traceback": [
      "\u001b[0;31m---------------------------------------------------------------------------\u001b[0m",
      "\u001b[0;31mNameError\u001b[0m                                 Traceback (most recent call last)",
      "\u001b[0;32m<ipython-input-9-b2b40216f2d4>\u001b[0m in \u001b[0;36m<module>\u001b[0;34m\u001b[0m\n\u001b[0;32m----> 1\u001b[0;31m \u001b[0mprint\u001b[0m\u001b[0;34m(\u001b[0m\u001b[0mtest\u001b[0m\u001b[0;34m[\u001b[0m\u001b[0;36m2\u001b[0m\u001b[0;34m]\u001b[0m\u001b[0;34m.\u001b[0m\u001b[0mindex\u001b[0m\u001b[0;34m(\u001b[0m\u001b[0mmax\u001b[0m\u001b[0;34m(\u001b[0m\u001b[0mtest\u001b[0m\u001b[0;34m[\u001b[0m\u001b[0;36m2\u001b[0m\u001b[0;34m]\u001b[0m\u001b[0;34m)\u001b[0m\u001b[0;34m)\u001b[0m\u001b[0;34m)\u001b[0m\u001b[0;34m\u001b[0m\u001b[0;34m\u001b[0m\u001b[0m\n\u001b[0m",
      "\u001b[0;31mNameError\u001b[0m: name 'test' is not defined"
     ]
    }
   ],
   "source": [
    "print(test[2].index(max(test[2])))"
   ]
  },
  {
   "cell_type": "code",
   "execution_count": null,
   "metadata": {},
   "outputs": [],
   "source": [
    "print(W_true.sum(axis=1))\n",
    "print(test[0].sum(axis=1))\n",
    "print(test[2])\n",
    "# print(np.mean(test[1], axis=1))"
   ]
  },
  {
   "cell_type": "code",
   "execution_count": null,
   "metadata": {},
   "outputs": [],
   "source": [
    "print(H_true)\n",
    "print(test[1])"
   ]
  },
  {
   "cell_type": "code",
   "execution_count": null,
   "metadata": {},
   "outputs": [],
   "source": [
    "a = 1e6*np.matmul(test[0], test[1])\n",
    "b = V\n",
    "print(a)\n",
    "print(b)\n",
    "print(a-b)"
   ]
  },
  {
   "cell_type": "code",
   "execution_count": null,
   "metadata": {},
   "outputs": [],
   "source": [
    "# broadcast testing\n",
    "a = np.array([[1,2,3],[4,5,6]])\n",
    "a.sum(axis=1)"
   ]
  }
 ],
 "metadata": {
  "kernelspec": {
   "display_name": "Python 3",
   "language": "python",
   "name": "python3"
  },
  "language_info": {
   "codemirror_mode": {
    "name": "ipython",
    "version": 3
   },
   "file_extension": ".py",
   "mimetype": "text/x-python",
   "name": "python",
   "nbconvert_exporter": "python",
   "pygments_lexer": "ipython3",
   "version": "3.7.3"
  }
 },
 "nbformat": 4,
 "nbformat_minor": 2
}

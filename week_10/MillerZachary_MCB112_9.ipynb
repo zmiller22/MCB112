{
 "cells": [
  {
   "cell_type": "code",
   "execution_count": 2,
   "metadata": {},
   "outputs": [],
   "source": [
    "import numpy as np"
   ]
  },
  {
   "cell_type": "code",
   "execution_count": 208,
   "metadata": {},
   "outputs": [],
   "source": [
    "def gen_pc_data(N, M, R, percent_moonlight):\n",
    "    \n",
    "    # First generate W\n",
    "    W = np.zeros((N,R))\n",
    "    moonlight_genes = np.random.uniform(0,1,N)\n",
    "    moonlight_genes = moonlight_genes<percent_moonlight\n",
    "    \n",
    "    # Pick the modules for each gene\n",
    "    for gene_idx in range(N):\n",
    "        if moonlight_genes[gene_idx]:\n",
    "            num_mods = np.random.randint(2,R+1)\n",
    "            gene_mods = np.random.randint(0,R,num_mods)\n",
    "            W[gene_idx, gene_mods] = 1\n",
    "        else: \n",
    "            gene_mod = np.random.randint(0,R)\n",
    "            W[gene_idx, gene_mod] = 1\n",
    "    \n",
    "    # Pick the relative expression levels of each gene for each module\n",
    "    for mod_idx in range(R):\n",
    "        # Handel the case where a module has no genes (very unlikely for N >> R)\n",
    "        if W[:,mod_idx].sum() == 0:\n",
    "            W[np.random.randint(0,N),mod_idx] = 1\n",
    "            \n",
    "        else:\n",
    "            col_arr = W[:,mod_idx]\n",
    "            col_sum = int(col_arr.sum())\n",
    "            dir_params = np.ones(col_sum)\n",
    "            gene_expressions_arr = np.random.dirichlet(dir_params).reshape(col_sum,1)\n",
    "            idx_arr = np.argwhere(col_arr != 0)\n",
    "            col_arr[idx_arr] = gene_expressions_arr\n",
    "            W[:, mod_idx] = col_arr\n",
    "            \n",
    "    # Then generate H\n",
    "    H = np.ones((R,M))\n",
    "    H = np.apply_along_axis(np.random.dirichlet, 1, H)\n",
    "    \n",
    "    # Now generate V from W and H\n",
    "    V = 1e6*np.matmul(W, H)\n",
    "    V = np.random.poisson(V)\n",
    "            \n",
    "    return W, H, V"
   ]
  },
  {
   "cell_type": "code",
   "execution_count": 209,
   "metadata": {},
   "outputs": [
    {
     "data": {
      "text/plain": [
       "(array([[0.30990095, 0.        , 0.        , 0.35449735, 0.        ],\n",
       "        [0.        , 0.        , 0.29671097, 0.        , 0.        ],\n",
       "        [0.26490142, 0.53934698, 0.28076932, 0.22780652, 0.        ],\n",
       "        [0.34083284, 0.        , 0.        , 0.        , 0.        ],\n",
       "        [0.        , 0.        , 0.        , 0.22326401, 0.        ],\n",
       "        [0.        , 0.46065302, 0.        , 0.        , 0.        ],\n",
       "        [0.        , 0.        , 0.        , 0.19443212, 0.        ],\n",
       "        [0.08436479, 0.        , 0.        , 0.        , 0.        ],\n",
       "        [0.        , 0.        , 0.42251971, 0.        , 0.        ],\n",
       "        [0.        , 0.        , 0.        , 0.        , 1.        ]]),\n",
       " array([[0.15851887, 0.25128794, 0.38471029, 0.10091687, 0.10456603],\n",
       "        [0.17921383, 0.00777472, 0.19886121, 0.11068229, 0.50346794],\n",
       "        [0.0200958 , 0.41764935, 0.15896622, 0.18676747, 0.21652115],\n",
       "        [0.43966004, 0.04590384, 0.31088132, 0.13270936, 0.07084543],\n",
       "        [0.19863967, 0.03258366, 0.35669433, 0.1955783 , 0.21650404]]),\n",
       " array([[204748,  93964, 230402,  78241,  56999],\n",
       "        [  6013, 124776,  46831,  55681,  63823],\n",
       "        [244251, 198593, 324281, 168743, 375696],\n",
       "        [ 54319,  85668, 131038,  34248,  35826],\n",
       "        [ 98005,  10317,  69161,  29808,  15764],\n",
       "        [ 82748,   3524,  91512,  51178, 231867],\n",
       "        [ 85457,   9000,  60194,  25746,  13980],\n",
       "        [ 13408,  21431,  32466,   8431,   8816],\n",
       "        [  8384, 176697,  67172,  79075,  91072],\n",
       "        [197988,  32672, 357180, 195346, 216614]]))"
      ]
     },
     "execution_count": 209,
     "metadata": {},
     "output_type": "execute_result"
    }
   ],
   "source": [
    "test = gen_pc_data(10,5,5,0.1)\n",
    "test"
   ]
  },
  {
   "cell_type": "code",
   "execution_count": 102,
   "metadata": {},
   "outputs": [
    {
     "data": {
      "text/plain": [
       "array([0, 1, 0, 0, 0])"
      ]
     },
     "execution_count": 102,
     "metadata": {},
     "output_type": "execute_result"
    }
   ],
   "source": [
    "else:\n",
    "            col_arr = W[:,mod_idx]\n",
    "            dir_params = np.ones(int(col_arr.sum()))\n",
    "            gene_expressions_arr = np.random.dirichlet(dir_params)\n",
    "            idx_arr = np.argwhere(W[:, mod_idx] != 0)\n",
    "            for i in range(len(gene_expressions_arr)):\n",
    "                col_arr[idx_arr[i]] = gene_expressions_arr[i]\n",
    "            print(col_arr)\n",
    "            W[:, mod_idx] = col_arr\n",
    "            "
   ]
  }
 ],
 "metadata": {
  "kernelspec": {
   "display_name": "Python 3",
   "language": "python",
   "name": "python3"
  },
  "language_info": {
   "codemirror_mode": {
    "name": "ipython",
    "version": 3
   },
   "file_extension": ".py",
   "mimetype": "text/x-python",
   "name": "python",
   "nbconvert_exporter": "python",
   "pygments_lexer": "ipython3",
   "version": "3.7.3"
  }
 },
 "nbformat": 4,
 "nbformat_minor": 2
}

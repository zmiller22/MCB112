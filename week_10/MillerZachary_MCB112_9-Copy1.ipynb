{
 "cells": [
  {
   "cell_type": "code",
   "execution_count": 17,
   "metadata": {},
   "outputs": [],
   "source": [
    "import numpy as np\n",
    "import pandas as pd\n",
    "import matplotlib.pyplot as plt\n",
    "import seaborn as sns\n",
    "\n",
    "%matplotlib inline"
   ]
  },
  {
   "cell_type": "code",
   "execution_count": 2,
   "metadata": {},
   "outputs": [],
   "source": [
    "def gen_pc_data(N, M, R, percent_moonlight):\n",
    "    \n",
    "    # First generate W\n",
    "    W = np.zeros((N,R))\n",
    "    moonlight_genes = np.random.uniform(0,1,N)\n",
    "    moonlight_genes = moonlight_genes<percent_moonlight\n",
    "    \n",
    "    # Pick the modules for each gene\n",
    "    for gene_idx in range(N):\n",
    "        if moonlight_genes[gene_idx]:\n",
    "            num_mods = np.random.randint(2,R+1)\n",
    "            gene_mods = np.random.randint(0,R,num_mods)\n",
    "            W[gene_idx, gene_mods] = 1\n",
    "        else: \n",
    "            gene_mod = np.random.randint(0,R)\n",
    "            W[gene_idx, gene_mod] = 1\n",
    "    # Pick the relative expression levels of each gene for each module\n",
    "    for mod_idx in range(R):\n",
    "        # Handel the case where a module has no genes (very unlikely for N >> R)\n",
    "        if W[:,mod_idx].sum() == 0:\n",
    "            W[np.random.randint(0,N),mod_idx] = 1\n",
    "            \n",
    "        else:\n",
    "            col_arr = W[:,mod_idx]\n",
    "            col_sum = int(col_arr.sum())\n",
    "            dir_params = np.ones(col_sum)\n",
    "            gene_expressions_arr = np.random.dirichlet(dir_params)\n",
    "            idx_arr = np.argwhere(col_arr != 0)\n",
    "            col_arr[idx_arr] = gene_expressions_arr[:,np.newaxis]\n",
    "            W[:, mod_idx] = col_arr\n",
    "            \n",
    "    # Then generate H\n",
    "    H = np.ones((R,M))\n",
    "    H = np.apply_along_axis(np.random.dirichlet, 0, H)\n",
    "    \n",
    "    # Now generate V from W and H\n",
    "    #TODO change the way we add counts, should be based on the number of samples (does it need to be different \n",
    "    # acrross samples as well?)\n",
    "    V = 1e6*np.matmul(W, H)\n",
    "    V = np.random.poisson(V)\n",
    "            \n",
    "    return W, H, V"
   ]
  },
  {
   "cell_type": "code",
   "execution_count": 3,
   "metadata": {},
   "outputs": [],
   "source": [
    "# Generate simulated data where we are observing 100 genes in 60 samples with 5 gene batteries and ~5 percent\n",
    "# of genes are moonlighting genes\n",
    "W1_true, H1_true, V1 = gen_pc_data(20,10,3,0.05)\n",
    "W2_true, H2_true, V2 = gen_pc_data(20,10,4,0.05)\n",
    "W3_true, H3_true, V3 = gen_pc_data(20,10,5,0.05)"
   ]
  },
  {
   "cell_type": "code",
   "execution_count": 4,
   "metadata": {},
   "outputs": [],
   "source": [
    "def iterate_NMF(V, R, N):\n",
    "    \n",
    "    iteration_num_list = []\n",
    "    dims = V.shape\n",
    "    C = V.sum(axis=0)\n",
    "    C = C[np.newaxis,:]\n",
    "    \n",
    "    best_LL = -1\n",
    "    best_W = -1\n",
    "    best_H = -1\n",
    "    \n",
    "    for epoch in range(N):\n",
    "        \n",
    "        # Initiate random W and H\n",
    "        epoch_W, epoch_H = np.ones((dims[0],R)), np.ones((R,dims[1]))\n",
    "        epoch_W = np.apply_along_axis(np.random.dirichlet, 0, epoch_W)\n",
    "        epoch_H = np.apply_along_axis(np.random.dirichlet, 0, epoch_H)\n",
    "        epoch_LL = -1\n",
    "\n",
    "        for iteration in range(100000):\n",
    "\n",
    "            # Get matrices for W and H update\n",
    "            Lamda = np.multiply(C,np.matmul(epoch_W,epoch_H))\n",
    "            P = np.divide(V, Lamda)\n",
    "            CH = np.multiply(C,epoch_H)\n",
    "\n",
    "            # Broadcast into higher dimensions and perform element-wise multiplication for W update\n",
    "            P_3d = P[:,np.newaxis,:]\n",
    "            CH_3d = CH[np.newaxis,:,:]\n",
    "            L_W = np.multiply(P_3d,CH_3d).sum(axis=2)\n",
    "\n",
    "            # Get new W\n",
    "            W_new = np.multiply(epoch_W,L_W)\n",
    "            norm_term = W_new.sum(axis=0)[np.newaxis,:]\n",
    "            W_new = np.divide(W_new,norm_term)\n",
    "\n",
    "            # Broadcast into higher dimensions and perform element-wise multiplication for H update\n",
    "            W_3d = epoch_W[:,:,np.newaxis]\n",
    "            L_H = np.multiply(P_3d,W_3d).sum(axis=0)\n",
    "\n",
    "            # Get new H\n",
    "            H_new = np.multiply(epoch_H,L_H)\n",
    "\n",
    "            # Update W and H\n",
    "            epoch_W = W_new\n",
    "            epoch_H = H_new\n",
    "            \n",
    "            # Calculate the negative log likelyhood and end iteration if it has not changed significantly\n",
    "            if iteration%100 == 0:\n",
    "                iteration_LL = np.sum(np.subtract(np.multiply(V, np.log(Lamda)), Lamda))\n",
    "                \n",
    "                if epoch_LL == -1:\n",
    "                    epoch_LL = iteration_LL\n",
    "                    \n",
    "                elif np.abs(np.subtract(iteration_LL, epoch_LL)) < 0.01:\n",
    "                    epoch_LL = iteration_LL\n",
    "                    iteration_num_list.append(iteration)\n",
    "                    break\n",
    "                \n",
    "                else: epoch_LL = iteration_LL\n",
    "         \n",
    "        # Update the best parameters if the log-likelyhood is better\n",
    "        if epoch_LL > best_LL or best_LL == -1:\n",
    "            best_LL = epoch_LL\n",
    "            best_W = epoch_W\n",
    "            best_H = epoch_H\n",
    "\n",
    "    return best_W, best_H, best_LL, iteration_num_list\n",
    "\n",
    "def find_best_fit_r(V, R_range_vec, N):\n",
    "    W_list = []\n",
    "    H_list = []\n",
    "    LL_list = []\n",
    "    \n",
    "    for R in range(R_range_vec[0],R_range_vec[1]+1):\n",
    "        results = iterate_NMF(V, R, N)\n",
    "        W_list.append(results[0])\n",
    "        H_list.append(results[1])\n",
    "        LL_list.append(results[2])\n",
    "        \n",
    "    return W_list, H_list, LL_list\n",
    "    "
   ]
  },
  {
   "cell_type": "code",
   "execution_count": 16,
   "metadata": {},
   "outputs": [],
   "source": [
    "test_1 = find_best_fit_r(V1, (3,6), 5)\n",
    "test_2 = find_best_fit_r(V2, (3,6), 5)\n",
    "test_3 = find_best_fit_r(V3, (3,6), 5)"
   ]
  },
  {
   "cell_type": "code",
   "execution_count": 15,
   "metadata": {},
   "outputs": [
    {
     "data": {
      "image/png": "[encoded data removed]",
      "text/plain": [
       "<Figure size 432x432 with 3 Axes>"
      ]
     },
     "metadata": {
      "needs_background": "light"
     },
     "output_type": "display_data"
    }
   ],
   "source": [
    "r_list = [3,4,5,6]\n",
    "fig, axs = plt.subplots(3, figsize=(6,6), sharex=True)\n",
    "axs[0].semilogy(r_list, test_1[2])\n",
    "axs[1].semilogy(r_list, test_2[2])\n",
    "axs[2].semilogy(r_list, test_3[2])\n",
    "fig.text(0.5, 0.04, \"# of modules (R)\", ha=\"center\", fontsize=12)\n",
    "fig.text(1, 0.5, \"Log-Likelyhood\", va=\"center\", ha=\"right\", rotation=\"vertical\", fontsize=12)\n",
    "fig.suptitle(\"Log-Likelyhood vs # of modules for 3 simulated data sets\", fontsize=16)\n",
    "plt.show()"
   ]
  },
  {
   "cell_type": "markdown",
   "metadata": {},
   "source": []
  },
  {
   "cell_type": "code",
   "execution_count": 14,
   "metadata": {},
   "outputs": [
    {
     "data": {
      "text/plain": [
       "(array([60.,  0.,  0.,  0.,  0.,  0.,  0.,  0.,  0., 20.]),\n",
       " array([0. , 0.1, 0.2, 0.3, 0.4, 0.5, 0.6, 0.7, 0.8, 0.9, 1. ]),\n",
       " <a list of 10 Patch objects>)"
      ]
     },
     "execution_count": 14,
     "metadata": {},
     "output_type": "execute_result"
    },
    {
     "data": {
      "image/png": "[encoded data removed]",
      "text/plain": [
       "<Figure size 864x432 with 3 Axes>"
      ]
     },
     "metadata": {
      "needs_background": "light"
     },
     "output_type": "display_data"
    },
    {
     "data": {
      "image/png": "[encoded data removed]",
      "text/plain": [
       "<Figure size 864x432 with 3 Axes>"
      ]
     },
     "metadata": {
      "needs_background": "light"
     },
     "output_type": "display_data"
    }
   ],
   "source": [
    "#TODO find a smarter way of creating the cutoff (variance or mean based maybe?)\n",
    "W_hat = test_2[0][1]\n",
    "row_norm_numer = W_hat.sum(axis=1)\n",
    "W_hat = np.divide(W_hat, row_norm_numer[:,np.newaxis])\n",
    "\n",
    "row_norm_numer = W2_true.sum(axis=1)\n",
    "W2_true_norm = np.divide(W2_true, row_norm_numer[:,np.newaxis])\n",
    "\n",
    "fig1, ax1 = plt.subplots(1, 2, figsize=(12,6))\n",
    "sns.heatmap(W_hat>0.1, ax=ax1[0])\n",
    "ax1[1].hist(W_hat.flatten())\n",
    "\n",
    "fig2, ax2 = plt.subplots(1, 2, figsize=(12,6))\n",
    "sns.heatmap(W2_true_norm>0, ax=ax2[0])\n",
    "ax2[1].hist(W2_true_norm.flatten())"
   ]
  },
  {
   "cell_type": "code",
   "execution_count": 30,
   "metadata": {},
   "outputs": [
    {
     "data": {
      "text/plain": [
       "array([[1375, 1491,  410, ...,  311, 1658, 1092],\n",
       "       [  10,  220,   26, ...,  452,  147,   96],\n",
       "       [1750, 2590,  726, ..., 1815, 2540, 2634],\n",
       "       ...,\n",
       "       [ 252,  265,   74, ...,   67,  327,  208],\n",
       "       [ 764,  802,  210, ...,  182,  950,  544],\n",
       "       [1540, 1640,  388, ...,  359, 2022, 1280]])"
      ]
     },
     "execution_count": 30,
     "metadata": {},
     "output_type": "execute_result"
    }
   ],
   "source": [
    "adler_data = pd.read_csv(\"w09-data.tbl\", header=None, index_col=0, delim_whitespace=True)"
   ]
  },
  {
   "cell_type": "code",
   "execution_count": 31,
   "metadata": {},
   "outputs": [],
   "source": [
    "adler_data_results = find_best_fit_r(adler_data.values, (3,6), 5)"
   ]
  },
  {
   "cell_type": "code",
   "execution_count": 32,
   "metadata": {},
   "outputs": [
    {
     "data": {
      "image/png": "[encoded data removed]",
      "text/plain": [
       "<Figure size 432x288 with 1 Axes>"
      ]
     },
     "metadata": {
      "needs_background": "light"
     },
     "output_type": "display_data"
    }
   ],
   "source": [
    "plt.semilogy(r_list, adler_data_results[2])\n",
    "plt.xlabel(\"# of modules (R)\")\n",
    "plt.ylabel(\"Log-Likelyhood\")\n",
    "plt.title(\"Log-Likelyhood vs # of modules for Adler's dataset\")\n",
    "plt.show()"
   ]
  },
  {
   "cell_type": "code",
   "execution_count": 36,
   "metadata": {},
   "outputs": [
    {
     "data": {
      "image/png": "[encoded data removed]",
      "text/plain": [
       "<Figure size 864x432 with 3 Axes>"
      ]
     },
     "metadata": {
      "needs_background": "light"
     },
     "output_type": "display_data"
    }
   ],
   "source": [
    "adler_W = adler_data_results[0][1]\n",
    "row_norm_numer = adler_W.sum(axis=1)\n",
    "adler_W = np.divide(adler_W, row_norm_numer[:,np.newaxis])\n",
    "\n",
    "fig1, ax1 = plt.subplots(1, 2, figsize=(12,6))\n",
    "sns.heatmap(adler_W>0.1, ax=ax1[0])\n",
    "ax1[1].hist(adler_W.flatten())\n",
    "\n",
    "plt.show()"
   ]
  },
  {
   "cell_type": "code",
   "execution_count": null,
   "metadata": {},
   "outputs": [],
   "source": []
  },
  {
   "cell_type": "code",
   "execution_count": 9,
   "metadata": {},
   "outputs": [
    {
     "data": {
      "text/plain": [
       "array([3.02850105, 5.76618308, 6.28248266, 4.92283321])"
      ]
     },
     "execution_count": 9,
     "metadata": {},
     "output_type": "execute_result"
    }
   ],
   "source": [
    "W_hat.sum(axis=0)"
   ]
  },
  {
   "cell_type": "code",
   "execution_count": 10,
   "metadata": {},
   "outputs": [
    {
     "name": "stdout",
     "output_type": "stream",
     "text": [
      "[106384257.32419571, 106384275.1149168, 106384282.2890033, 106384293.68746212]\n",
      "[[7.95329480e+01 1.60507400e+02 3.06512128e+01 1.67127472e+02\n",
      "  9.22076899e+01 8.11331374e+01 1.26580849e+02 4.33690438e+01\n",
      "  5.45146272e+01 5.29929121e+01]\n",
      " [4.44006644e+01 2.95548247e+00 1.66559898e+01 7.47532110e+01\n",
      "  1.49384894e+01 1.08959997e+01 2.85897885e+01 1.13691745e+02\n",
      "  1.70937772e+01 6.70251673e+01]\n",
      " [2.23428439e+02 1.56304254e+01 1.23149936e+02 1.92081052e+01\n",
      "  6.88444540e+01 2.80764974e+01 2.14310348e+01 2.73463949e+01\n",
      "  2.67910611e+02 1.50600238e+01]\n",
      " [2.77436412e+02 5.11991659e+01 2.95367687e+02 1.97578226e+02\n",
      "  1.90859677e+02 3.68941129e-01 2.07688947e+02 3.34513073e+02\n",
      "  3.64747547e+02 5.10114827e+02]\n",
      " [7.98462607e+02 2.37224747e+00 1.28537959e+01 3.18377244e+02\n",
      "  1.53894846e+02 1.22836700e+01 3.56566507e+01 3.40100196e+02\n",
      "  2.17661303e+02 3.28180214e+02]\n",
      " [1.82679076e+02 5.73619747e+01 2.00965518e+00 1.98957025e+01\n",
      "  2.47306014e+01 2.45411139e+01 9.53141867e+01 6.72147195e+01\n",
      "  5.22765301e+01 1.20781673e+02]\n",
      " [2.07208219e+00 2.46318128e+00 2.39544857e+01 5.04929255e+00\n",
      "  6.06385589e+00 9.31157093e+00 2.01333090e+01 3.35214249e-02\n",
      "  1.94905188e+01 4.51575263e+01]\n",
      " [2.48073111e+01 6.27510380e+00 7.87763180e-01 1.22622378e+00\n",
      "  6.01898133e+01 5.91127856e+00 5.98168342e+00 6.14314681e+01\n",
      "  1.12077713e+01 3.66687547e+00]\n",
      " [4.52566283e+01 1.02648497e+02 3.37804127e+02 1.98461342e+02\n",
      "  2.37408437e+02 1.25196316e+02 2.28053765e+02 3.63287400e+02\n",
      "  6.46863741e+02 2.70019782e+01]\n",
      " [5.43515866e+01 2.00867778e+02 2.46811053e+02 8.24886509e+01\n",
      "  2.85539285e+02 3.98609348e+01 2.14970651e+02 4.11674315e+01\n",
      "  3.62913787e+01 1.83325892e+02]\n",
      " [3.52717753e+01 6.50839912e+00 5.70017446e+01 2.97331195e+01\n",
      "  7.04551165e+01 9.47797282e+00 5.19863712e+00 3.38096539e+00\n",
      "  6.72468589e+01 4.48441536e+01]\n",
      " [4.50428379e+01 2.00455420e+01 2.62114373e+01 3.87666630e+01\n",
      "  2.94463003e+01 2.58461854e+01 4.60445715e+01 8.07525056e+01\n",
      "  1.92199488e+01 7.51836578e+01]\n",
      " [1.20043731e+01 1.34944288e+02 7.48958132e+00 2.06514807e+01\n",
      "  2.42820223e+01 1.11405428e+02 1.25741984e+02 7.12561864e+01\n",
      "  3.67790558e+01 5.47938108e+00]\n",
      " [1.53418499e+02 2.47883427e+01 5.15689979e+00 9.29037411e+01\n",
      "  8.39339607e+01 2.93962384e+01 3.38874365e+01 3.18970808e+01\n",
      "  9.82143100e+01 1.23402837e+02]\n",
      " [1.37377584e+02 1.07732478e+01 2.88118754e+02 7.02393739e+01\n",
      "  4.23839354e+01 3.39614174e+01 2.64271003e+01 1.09153496e+01\n",
      "  3.71208708e+02 6.57609893e+01]\n",
      " [1.28288648e+02 7.52249584e+02 2.09842242e+01 1.23190946e+01\n",
      "  1.80064220e+01 7.51572001e+01 8.33016898e+02 1.96421602e+01\n",
      "  1.14469973e+00 1.98907311e+02]\n",
      " [6.76958662e+01 1.52549910e+01 5.35320454e+01 2.59252113e+02\n",
      "  2.08555014e+02 4.54810556e+02 5.55394552e+02 1.77062773e+02\n",
      "  3.40670533e+02 1.62685279e+02]\n",
      " [1.41744932e+02 3.06393348e+01 1.00030603e+01 6.45185671e+02\n",
      "  8.86779155e+01 1.78862349e+01 2.74196548e+01 2.25237298e+02\n",
      "  2.39154752e+02 1.95042828e+02]\n",
      " [5.83106076e+02 3.20561431e+01 1.32843535e+01 2.08712355e+02\n",
      "  2.73721003e+01 7.56127361e+01 1.20521090e+02 1.16234306e+02\n",
      "  2.48500487e+02 3.03687891e+02]\n",
      " [8.54991864e+01 3.80451076e+02 4.22529160e+01 2.72832633e+01\n",
      "  3.85079388e+01 2.10891610e+01 3.44481229e+01 7.71076540e+01\n",
      "  1.46577655e+02 1.49588114e+02]]\n",
      "[[6.64002107e+01 2.33205068e+01 2.61605508e+00 1.19222823e+02\n",
      "  1.07346550e+02 8.87382819e+01 1.45412281e+01 9.12709031e+01\n",
      "  3.89977035e+01 7.75397076e+01]\n",
      " [6.01977410e+01 6.68664040e+00 1.81997284e+01 8.27981072e+01\n",
      "  1.15763935e+01 1.53448787e+01 2.48737337e+01 9.93895707e+01\n",
      "  8.89041768e+00 4.83738899e+01]\n",
      " [1.03598324e+02 9.14462751e+00 1.67967107e+01 5.07727220e+00\n",
      "  4.68221813e+01 2.30256963e+01 2.19123998e+01 4.76927481e-01\n",
      "  5.10709569e+01 2.60567022e+01]\n",
      " [3.32978323e+02 2.46776297e+01 4.99947811e+01 1.47434730e+02\n",
      "  1.79491264e+02 6.57372378e+01 1.22101657e+01 3.51511020e+02\n",
      "  4.17578351e+02 3.93289208e+02]\n",
      " [9.65230511e+02 3.77831361e+01 2.26451435e-01 2.19901494e+01\n",
      "  3.31218901e+02 1.44874562e+01 1.30998218e+01 1.44212421e+02\n",
      "  1.08461161e+01 5.53824652e+01]\n",
      " [1.34678766e+02 1.60324453e+01 6.10518508e-01 2.36057381e+01\n",
      "  1.23075432e+02 7.95942388e+00 3.05417270e+00 9.12019556e+00\n",
      "  3.20019928e+01 7.64494469e+01]\n",
      " [1.50097317e+01 2.03082645e+00 1.34794266e+01 7.63399589e+00\n",
      "  9.10841540e+00 7.23319667e+00 1.49666451e+01 9.28343421e+00\n",
      "  4.03079760e+00 3.60917471e+01]\n",
      " [2.04668481e+01 4.57669843e-01 4.24415383e-01 2.64741703e+01\n",
      "  3.16725928e+01 2.50368405e+00 1.80735443e+01 3.85294849e+01\n",
      "  3.89667120e-01 2.20956982e+01]\n",
      " [1.85321572e+02 1.14112401e+01 1.11313131e+02 3.12660317e+02\n",
      "  3.20122906e+01 5.58824939e+01 7.91043248e+01 3.29213971e+02\n",
      "  1.37232291e+02 1.48073071e+02]\n",
      " [1.09574409e+02 2.76871405e+01 2.56275768e+01 2.73956485e+00\n",
      "  1.47254610e+02 5.30924577e+01 4.52686181e+01 5.75685474e+01\n",
      "  6.93166010e+01 3.70189518e+01]\n",
      " [9.11592065e+00 1.50097874e-02 2.27258644e+00 1.56324657e+01\n",
      "  1.74178536e+01 4.91254372e-01 4.71432308e+00 3.45559409e+01\n",
      "  3.40939884e+01 6.64075484e+00]\n",
      " [1.99907903e+01 4.33334158e-01 4.05930601e+01 4.09444163e+01\n",
      "  3.04629215e+01 5.33962829e-01 1.14631634e+01 6.83530938e+01\n",
      "  3.13918204e+01 9.03871267e+01]\n",
      " [3.84850777e+00 4.81128508e+01 1.67982788e+00 1.76558042e+01\n",
      "  1.87620943e+01 7.90810347e+01 2.30288029e+01 6.75622357e+01\n",
      "  1.81980446e+01 3.43320170e+01]\n",
      " [1.02352196e+01 7.61372334e+00 5.38527379e-01 5.19079024e+01\n",
      "  2.96626511e+01 1.04669003e+01 1.32184465e+01 9.38252361e+01\n",
      "  1.03129659e+02 2.12438960e+01]\n",
      " [6.03792197e+00 4.12289868e+00 2.80577696e+01 1.21847522e+01\n",
      "  3.59752083e+01 1.80777275e+01 1.87313826e+01 1.78254832e+01\n",
      "  7.74362855e+01 9.32309693e+00]\n",
      " [1.06534648e+02 1.71518343e+02 6.05873171e-01 3.23057841e+00\n",
      "  2.32882124e+02 1.15284020e+02 2.60900145e+02 8.21353557e+00\n",
      "  1.53685265e+00 2.99758167e+01]\n",
      " [1.57726621e+01 4.15455459e+02 1.32538612e+01 2.09575104e+02\n",
      "  8.72633434e+00 6.03781817e+02 6.42261373e+01 1.90681886e+02\n",
      "  9.43150452e+01 9.44313905e+01]\n",
      " [1.75884270e+02 7.85625385e+00 1.09981108e+00 4.18012101e+02\n",
      "  1.30237129e+02 7.04869281e-02 3.49877859e+01 3.64907332e+01\n",
      "  1.60993636e+02 2.46232831e+01]\n",
      " [3.36618843e+02 3.59830323e+01 1.33103183e+00 2.50336597e+01\n",
      "  5.98079440e+01 4.18865998e+01 5.99192042e+01 9.14285370e+00\n",
      "  5.65953768e+01 1.18693094e+02]\n",
      " [1.76313728e+01 1.36624773e+02 1.75333785e+00 4.15000676e+01\n",
      "  7.96157275e+01 1.00538485e+02 1.35237660e+02 5.91384927e+01\n",
      "  3.94623594e+01 3.23939238e+01]]\n",
      "23126.489794124365\n",
      "13925.048971865128\n"
     ]
    }
   ],
   "source": [
    "print(test_1[2])\n",
    "# So for these r=3 definetly looks better...\n",
    "print(np.abs(1e6*np.matmul(test_1[0][0],test_1[1][0])-V1))\n",
    "print(np.abs(1e6*np.matmul(test_1[0][3],test_1[1][3])-V1))\n",
    "# But the sum for r=6 is lower..?\n",
    "print(np.sum(np.abs(1e6*np.matmul(test_1[0][0],test_1[1][0])-V1)))\n",
    "print(np.sum(np.abs(1e6*np.matmul(test_1[0][3],test_1[1][3])-V1)))"
   ]
  },
  {
   "cell_type": "code",
   "execution_count": null,
   "metadata": {},
   "outputs": [],
   "source": []
  },
  {
   "cell_type": "code",
   "execution_count": 11,
   "metadata": {},
   "outputs": [
    {
     "name": "stdout",
     "output_type": "stream",
     "text": [
      "[104900480.28877482, 105389830.51553376, 105389839.93267286, 105389849.93420699]\n",
      "[[1.09439451e+04 1.05818271e+02 5.67373768e+03 1.04693172e+03\n",
      "  2.52369171e+03 1.67970155e+04 8.77676840e+03 2.04878495e+04\n",
      "  1.11476986e+03 7.64587110e+03]\n",
      " [1.84716556e+04 1.94963405e+02 9.82983543e+03 1.85297867e+03\n",
      "  4.27831525e+03 2.85514357e+04 1.48102594e+04 3.48429436e+04\n",
      "  1.90604570e+03 1.31409212e+04]\n",
      " [4.94178378e+04 4.40779203e+02 2.58874358e+04 5.07706825e+03\n",
      "  1.14483936e+04 7.46908141e+04 3.87526903e+04 9.15428958e+04\n",
      "  4.72685638e+03 3.40725494e+04]\n",
      " [2.39282544e+04 1.21462716e+04 1.30035867e+04 2.69894419e+03\n",
      "  5.33558975e+03 3.88453291e+04 1.91302675e+04 4.37391881e+04\n",
      "  6.91136055e+03 2.10147977e+04]\n",
      " [9.90586105e+03 9.91856437e+01 5.05259009e+03 9.83342103e+02\n",
      "  2.18056954e+03 1.48882890e+04 7.95075810e+03 1.81187428e+04\n",
      "  9.52702341e+02 6.65433433e+03]\n",
      " [3.86493463e+02 1.88177577e+03 9.87433537e+01 6.10907077e+01\n",
      "  2.29411395e+01 6.39425636e+02 2.14458266e+02 4.42830691e+02\n",
      "  8.77869483e+02 6.26004050e+02]\n",
      " [1.21498154e+03 5.36690031e+03 2.57027578e+02 8.85930516e+01\n",
      "  1.87941408e+02 1.92661327e+03 9.65267278e+02 1.02752591e+03\n",
      "  2.23260046e+03 2.27427686e+03]\n",
      " [1.16384553e+04 1.00307737e+02 5.93244469e+03 1.18063036e+03\n",
      "  2.79403661e+03 1.71208212e+04 8.83289132e+03 2.11049499e+04\n",
      "  1.07302524e+03 7.73176234e+03]\n",
      " [1.44512851e+03 8.12753036e+03 3.01708953e+02 1.80092746e+01\n",
      "  4.46084553e+02 3.38531258e+03 1.10101319e+03 1.63729966e+03\n",
      "  3.34896311e+03 3.30790759e+03]\n",
      " [4.53166561e+02 2.39206306e+02 2.60939046e+02 5.01365917e+01\n",
      "  1.05393034e+02 8.05227318e+02 3.89442692e+02 8.84147139e+02\n",
      "  1.34617257e+02 4.36865924e+02]\n",
      " [1.31197881e+02 5.11513754e+02 1.28099932e+01 1.02466860e+01\n",
      "  5.46521294e+01 9.20878215e+01 6.10388345e+01 6.98369090e+01\n",
      "  2.78397797e+02 2.11407677e+02]\n",
      " [8.56682183e+02 1.15075711e+03 2.79482689e+03 6.80564145e+01\n",
      "  4.64816054e+00 9.70155329e+02 7.63359396e+02 7.95567041e+02\n",
      "  4.74136369e+02 2.46514364e+03]\n",
      " [1.01775245e+03 8.51624227e+02 2.19229381e+03 1.78863242e+01\n",
      "  2.42578167e+00 5.48587389e+02 2.96359222e+02 8.66496275e+02\n",
      "  3.47399748e+02 1.51660904e+03]\n",
      " [3.39372011e+02 1.76806038e+02 6.61091036e+02 2.07565747e+02\n",
      "  3.21902606e+00 7.79248476e+01 2.30509426e+02 6.20782005e+01\n",
      "  1.01441797e+02 2.59562729e+02]\n",
      " [1.62928579e+04 8.09573397e+03 9.06995796e+03 1.92481125e+03\n",
      "  3.94544500e+03 2.61800991e+04 1.28281815e+04 2.93405120e+04\n",
      "  4.66777185e+03 1.42442129e+04]\n",
      " [2.01453999e+04 9.92416016e+03 1.09270137e+04 2.14970901e+03\n",
      "  4.91252788e+03 3.23237831e+04 1.62622637e+04 3.57959643e+04\n",
      "  5.55436245e+03 1.76856157e+04]\n",
      " [2.23619482e+04 1.10425889e+04 1.22638554e+04 2.52398042e+03\n",
      "  5.15806937e+03 3.59969072e+04 1.77004444e+04 4.05301469e+04\n",
      "  6.24252870e+03 1.96107191e+04]\n",
      " [5.17113651e+02 2.81173010e+03 1.10754842e+02 2.42374060e+01\n",
      "  2.08718559e+01 1.06563308e+03 3.45183342e+02 6.36990920e+02\n",
      "  1.16087923e+03 1.11923870e+03]\n",
      " [6.14385072e+03 3.32139186e+04 1.59784582e+03 4.71901724e+02\n",
      "  1.64105831e+03 1.38145001e+04 4.24716981e+03 7.06855091e+03\n",
      "  1.27391161e+04 1.41661286e+04]\n",
      " [2.65587003e+04 1.32536496e+04 1.48407931e+04 3.11346360e+03\n",
      "  5.93994177e+03 4.30802696e+04 2.09481264e+04 4.87365997e+04\n",
      "  7.42656278e+03 2.35895060e+04]]\n",
      "[[1.06589715e+02 4.48857449e-01 6.30581809e+01 1.06663078e+02\n",
      "  3.17892583e+01 7.73617858e+01 9.66600131e+01 2.43846422e+01\n",
      "  3.25306662e+01 2.93187447e+01]\n",
      " [1.52583567e+02 5.94499799e-01 6.51199057e+00 3.03361342e+01\n",
      "  7.64683090e+01 2.72145384e+02 8.74943517e+01 4.61365849e+01\n",
      "  3.88889785e+01 1.96886577e+01]\n",
      " [5.70373969e+02 1.11100992e+00 1.01417228e+02 5.12661689e+01\n",
      "  6.87509104e+01 6.27373343e+02 1.42237588e+02 3.23767894e+01\n",
      "  6.87035000e+01 9.81172805e+01]\n",
      " [1.14534743e+02 1.97685228e+02 1.93577619e+02 5.10414187e+01\n",
      "  5.18696914e+01 2.94043535e+01 3.50372273e+01 6.55242665e+00\n",
      "  9.39308946e+01 3.85177959e+00]\n",
      " [3.25672358e+01 9.16031003e-02 4.09178398e+01 5.70174988e+01\n",
      "  6.14423880e+01 2.29119290e+01 1.65413219e+02 5.24566144e+01\n",
      "  6.87326514e+00 3.99142024e+01]\n",
      " [1.88555934e+01 1.04119267e+02 2.15215348e+01 2.47341676e+01\n",
      "  1.66558912e+01 6.93886858e+01 4.21886420e+01 5.51084857e+00\n",
      "  1.14053531e+02 1.87175318e+01]\n",
      " [4.64616098e+00 2.44221231e+02 1.76739463e+00 7.52469482e-01\n",
      "  1.49797144e+02 1.46825275e+02 1.34839486e+02 3.85372641e+01\n",
      "  1.79216081e+02 8.39881739e+01]\n",
      " [2.00727124e+02 2.78864676e-01 1.07443107e+01 1.02465187e+01\n",
      "  1.62866631e+02 1.62017300e+02 1.89848904e+02 3.56290058e+01\n",
      "  1.03430340e+01 7.16811933e+01]\n",
      " [1.17830121e+02 3.56504979e+01 5.05762548e+01 7.48783118e+01\n",
      "  8.01016549e+01 2.65568157e+01 5.14730276e+01 8.13605730e+00\n",
      "  4.11796963e+01 1.88492833e+02]\n",
      " [3.40789221e+01 7.38245959e+00 1.23429566e+01 4.46148736e-01\n",
      "  1.19569000e+01 1.12154356e+01 1.65113509e+00 1.98711703e+00\n",
      "  4.47836796e+00 9.35247142e-01]\n",
      " [2.75439470e+00 4.70977395e+01 4.38929124e+00 9.81331488e+00\n",
      "  4.07954303e+00 2.41314517e+01 3.47078531e+01 1.95612950e+01\n",
      "  2.59378564e+01 2.17578666e+01]\n",
      " [1.59243869e+02 1.58326219e+02 1.30755341e+02 2.96106621e+02\n",
      "  6.01104309e+00 3.59902544e+02 2.02526788e+02 6.28261812e+01\n",
      "  1.09297895e+02 1.30190634e+02]\n",
      " [4.25895150e+02 9.47834422e+01 2.31565230e+02 8.40242287e+02\n",
      "  6.88685511e+00 1.79463132e+02 2.70041891e+02 5.46938508e+01\n",
      "  5.49584842e+01 6.51191726e+02]\n",
      " [1.23512093e+02 7.13681387e+00 1.31426384e+02 9.23927234e+01\n",
      "  1.06253345e+00 6.34489985e+01 9.15894728e+01 5.67831563e+01\n",
      "  2.70033636e+01 1.53311645e+02]\n",
      " [5.03397874e+01 5.18101905e+01 1.40542200e+02 8.56113133e+01\n",
      "  1.65161642e+02 2.43413601e+01 1.34761806e+02 1.13683788e+02\n",
      "  3.63468540e+01 7.85741152e+00]\n",
      " [3.47705165e+01 9.47886024e+01 1.33026767e+02 2.60591586e+01\n",
      "  1.69998827e+02 3.57680970e+01 3.62468386e+02 2.68728165e+02\n",
      "  2.88634746e+01 5.67407559e+00]\n",
      " [6.61910381e+01 9.36708900e+01 9.20341015e+00 1.31266767e+01\n",
      "  1.58719933e+01 2.30775041e+01 5.81247354e+01 1.33495214e+02\n",
      "  4.76631824e+01 5.16719370e+00]\n",
      " [4.88275815e+01 4.17906046e+01 4.49435293e+00 1.37425946e+01\n",
      "  3.07641075e+00 6.86979194e+01 1.93933941e+01 1.33740912e+01\n",
      "  5.43307782e+01 1.81591164e+00]\n",
      " [4.09072044e+02 9.76559324e+01 3.74997099e+01 3.90635253e+00\n",
      "  1.04197352e+02 5.62904968e+02 7.36106015e+01 2.99450733e+01\n",
      "  3.47316320e+01 3.29209834e+02]\n",
      " [8.61474073e+01 9.43298576e+01 2.04227316e+02 7.80015546e+01\n",
      "  3.07451331e+02 2.49987939e+01 2.37302722e+02 3.93295805e+02\n",
      "  7.36727516e+01 2.99248758e+01]]\n",
      "1705433.2088447062\n",
      "18639.17237112782\n"
     ]
    }
   ],
   "source": [
    "print(test_2[2])\n",
    "# So for these r=3 definetly looks better...\n",
    "print(np.abs(1e6*np.matmul(test_2[0][0],test_2[1][0])-V2))\n",
    "print(np.abs(1e6*np.matmul(test_2[0][3],test_2[1][3])-V2))\n",
    "# But the sum for r=6 is lower..?\n",
    "print(np.sum(np.abs(1e6*np.matmul(test_2[0][0],test_2[1][0])-V2)))\n",
    "print(np.sum(np.abs(1e6*np.matmul(test_2[0][3],test_2[1][3])-V2)))"
   ]
  },
  {
   "cell_type": "code",
   "execution_count": 12,
   "metadata": {},
   "outputs": [
    {
     "name": "stdout",
     "output_type": "stream",
     "text": [
      "[106649944.45363122, 106884001.73768404, 106955244.91484329, 106955253.35719538]\n",
      "[[2.50967952e+03 6.59064083e+03 1.98663956e+04 3.46919094e+04\n",
      "  3.81501647e+03 1.63051907e+03 2.91995150e+02 2.71906303e+04\n",
      "  2.63472960e+04 9.87719318e+03]\n",
      " [1.38349638e+03 1.15382754e+02 9.75299927e+03 1.23538718e+04\n",
      "  3.37205281e+03 5.04996333e+03 9.61588027e+02 9.60968364e+03\n",
      "  1.62839457e+04 1.20934483e+04]\n",
      " [2.41149350e+03 8.72111191e+02 1.62955144e+03 1.67299010e+02\n",
      "  1.65384167e+01 2.91948972e+03 1.18113885e+02 1.79233891e+03\n",
      "  1.43378996e+03 1.48955142e+03]\n",
      " [2.81963598e+03 7.35783821e+03 2.23190038e+04 3.92304870e+04\n",
      "  4.49060706e+03 1.96622517e+03 2.18873871e+02 3.08046387e+04\n",
      "  2.96072196e+04 1.14702551e+04]\n",
      " [1.89508431e+02 5.43534619e+02 1.44614552e+03 2.51835801e+03\n",
      "  2.12465159e+02 1.18237414e+02 1.70934355e+01 1.93258696e+03\n",
      "  1.80932002e+03 7.42978826e+02]\n",
      " [1.98088544e+03 1.11105145e+03 1.13935577e+04 7.02234745e+03\n",
      "  2.71599256e+03 3.20490090e+03 9.37444700e+02 1.39520082e+04\n",
      "  1.54063911e+04 1.01351995e+04]\n",
      " [2.38186973e+03 1.55624338e+02 1.66009734e+04 2.04778199e+04\n",
      "  5.46797434e+03 8.03027225e+03 1.34831920e+03 1.66285247e+04\n",
      "  2.75405083e+04 1.95704379e+04]\n",
      " [3.22008954e+02 8.70030104e+02 2.53361372e+03 4.51779112e+03\n",
      "  5.17650935e+02 1.76874234e+02 1.55047825e+01 3.41666519e+03\n",
      "  3.30803487e+03 1.24301467e+03]\n",
      " [4.08673824e+02 1.12387210e+03 3.18444776e+03 5.79312815e+03\n",
      "  6.01466856e+02 4.03211897e+02 1.71299279e+02 4.52108301e+03\n",
      "  4.59848070e+03 1.81958505e+03]\n",
      " [3.61860508e+03 1.72208011e+04 7.15056828e+03 5.73037040e+04\n",
      "  9.30061728e+03 1.80630596e+02 2.47324964e+02 1.28994684e+03\n",
      "  2.29287969e+04 5.05453680e+03]\n",
      " [6.63095269e+02 6.49690217e+02 6.08453030e+02 3.00269029e+02\n",
      "  9.48634752e+02 2.46380400e+03 3.92441367e+02 2.83538733e+03\n",
      "  1.49212133e+03 6.47336050e+03]\n",
      " [2.49127141e+03 6.49171694e+03 1.98841712e+04 3.49570335e+04\n",
      "  4.09085346e+03 1.66921121e+03 3.55111726e+02 2.73076077e+04\n",
      "  2.62693426e+04 1.02268108e+04]\n",
      " [6.28062122e+02 3.71715786e+01 4.25494042e+03 5.48430820e+03\n",
      "  1.45524905e+03 2.17320372e+03 4.37047231e+02 4.29658012e+03\n",
      "  7.36685283e+03 5.30131594e+03]\n",
      " [1.01626298e+04 1.01004024e+04 8.42564450e+03 4.13973452e+03\n",
      "  1.43861003e+04 3.75424131e+04 7.48967452e+03 3.99470405e+04\n",
      "  2.28124905e+04 9.70621462e+04]\n",
      " [1.45127258e+02 1.52676138e+01 9.82979427e+02 1.30460699e+03\n",
      "  3.71960229e+02 5.25285999e+02 1.12845280e+02 9.94903426e+02\n",
      "  1.57634127e+03 1.12297584e+03]\n",
      " [3.64189080e+03 1.15902795e+03 8.19211996e+02 9.18399010e+01\n",
      "  2.71922945e+01 3.66898689e+03 4.73933793e+01 1.92321889e+03\n",
      "  1.75221422e+03 1.83654248e+03]\n",
      " [4.83708915e+02 1.27489707e+03 3.72721676e+03 6.41146727e+03\n",
      "  7.76997510e+02 4.65410418e+02 1.10228686e+02 4.90258037e+03\n",
      "  4.80355332e+03 1.82428081e+03]\n",
      " [1.85692143e+03 9.45534571e+01 1.26906517e+04 1.60507779e+04\n",
      "  4.27720309e+03 6.39344216e+03 1.06678532e+03 1.22413785e+04\n",
      "  2.14481643e+04 1.58088615e+04]\n",
      " [3.92860796e+02 3.91552057e+01 2.69557310e+03 3.36960953e+03\n",
      "  9.13425236e+02 1.42556902e+03 3.15101300e+02 2.73744540e+03\n",
      "  4.49211757e+03 3.33983458e+03]\n",
      " [4.18999549e+02 1.02018340e+02 4.34169818e+01 5.07360591e+01\n",
      "  5.87136693e-01 3.13044317e+02 1.88824595e+01 8.65487180e+01\n",
      "  1.89736654e+02 1.77757784e+02]]\n",
      "[[1.03463315e+01 7.08087144e+01 1.16145361e+02 1.13803176e+01\n",
      "  8.62123917e+01 2.29479643e+01 9.03214014e+01 4.39764421e+00\n",
      "  8.59465425e+01 8.26860741e+01]\n",
      " [1.10618143e+01 5.21831364e+00 9.06629104e-01 1.64176252e+02\n",
      "  2.23850238e+01 8.07721886e+01 2.38910290e+01 3.31858396e+01\n",
      "  7.95677521e+01 4.51951105e+01]\n",
      " [8.44041472e+02 6.46526703e+01 6.07403069e+02 1.34569523e+01\n",
      "  2.84419032e-01 4.65688014e+01 4.15117897e+01 5.20857194e+01\n",
      "  2.16827699e+00 3.46666895e+01]\n",
      " [2.21872735e+00 2.71265842e+00 1.60756015e+01 1.11959004e+01\n",
      "  1.22496615e+02 1.25956253e+01 2.10557651e+02 1.74528100e+01\n",
      "  1.10853597e+01 8.69985780e+00]\n",
      " [1.96926417e+00 2.97859170e+01 4.23633031e+01 3.50899443e-01\n",
      "  4.97044347e+01 3.09643959e+01 4.99697199e+01 7.83120355e+00\n",
      "  5.58452957e+01 2.16502836e+01]\n",
      " [2.97935905e+01 1.65327705e+01 3.90819729e+01 1.44723797e+02\n",
      "  1.70987880e+02 1.20824987e+02 2.72625487e+02 1.14199081e+02\n",
      "  6.28887880e+01 2.22011484e+00]\n",
      " [1.96890287e+00 1.41781294e+01 3.07217961e+01 2.58091601e+02\n",
      "  1.37996796e+02 5.89828037e+01 2.25963540e+02 8.65969730e+01\n",
      "  4.21590295e+01 5.05108118e-01]\n",
      " [1.44578460e-01 7.90718658e+00 5.56309234e+00 1.10558424e+01\n",
      "  4.43075357e+01 3.95990605e+01 3.17197910e+01 1.39341695e+00\n",
      "  7.78960808e+01 2.93530698e+00]\n",
      " [7.82851680e-01 2.89502137e+01 8.83077847e+01 2.04228844e+01\n",
      "  2.12251417e+01 7.75230427e+01 8.92857258e+01 1.57403984e+00\n",
      "  2.61370228e+02 6.29685273e+01]\n",
      " [6.74923317e+01 8.18207041e+00 5.09780710e+01 2.91894355e+02\n",
      "  1.04026394e+03 1.48502020e+01 1.74374927e+02 8.95709809e+00\n",
      "  9.06730398e+01 1.04300013e+02]\n",
      " [3.80057840e+00 1.54523754e+01 1.87414470e+01 5.49156291e+00\n",
      "  3.81758915e+01 2.25095442e+01 7.36711278e+01 6.23638964e+01\n",
      "  3.59050812e+01 1.58859110e+00]\n",
      " [2.62831287e+00 5.33923161e+01 6.44518568e+00 3.56281655e+01\n",
      "  2.44884578e+02 9.19608978e+01 1.97527165e+01 4.60206905e+01\n",
      "  7.45369951e+01 1.93960834e+01]\n",
      " [9.03059451e+00 4.63323660e+00 1.19622654e+02 2.96426921e+01\n",
      "  1.67275904e+01 1.65777446e+01 7.39402065e+00 3.37501506e+01\n",
      "  4.23680633e+01 5.86568684e+01]\n",
      " [8.18431004e+01 1.80277277e+01 1.43715017e+02 6.75845506e+01\n",
      "  1.73976079e+02 1.28202999e+01 4.04946272e+02 1.03756132e+02\n",
      "  6.90644574e+01 5.13538067e+01]\n",
      " [3.13265391e+00 3.92905472e+00 7.26688229e+00 1.00040137e+02\n",
      "  2.66791863e+01 4.69940571e+01 2.32524161e+01 7.21364095e+00\n",
      "  4.00910790e+01 1.95467155e+01]\n",
      " [2.30680710e+02 3.21861234e+01 1.93641312e+02 2.38139400e+01\n",
      "  6.07765926e+00 3.05282369e+01 1.96456868e+02 5.21826463e+01\n",
      "  2.11711162e+02 1.76428064e+01]\n",
      " [8.62103306e-01 3.40143634e+00 1.28559511e+02 7.14239342e+00\n",
      "  9.62800769e+01 1.15977604e+02 3.59546391e+01 1.62609181e+01\n",
      "  1.00468682e+01 6.10770556e+01]\n",
      " [1.25563299e+01 9.55859041e+00 5.31235522e+01 6.07378320e+01\n",
      "  8.82042259e-01 5.62437928e+01 2.06118265e+02 3.88596171e+01\n",
      "  2.78935595e+01 5.63620416e+01]\n",
      " [2.48282542e-01 5.18058449e+00 2.72689884e+00 2.43484225e+01\n",
      "  3.12977178e+01 4.48827129e+01 5.69642335e+01 6.45467162e+01\n",
      "  2.41377288e+01 7.54172690e+00]\n",
      " [1.19879002e+02 3.55383601e+01 1.05744644e+02 3.47393454e+01\n",
      "  3.13619169e+00 1.91733857e+00 6.09476413e+00 4.82343898e+01\n",
      "  1.27866197e+01 8.55748452e+00]]\n",
      "1320381.776996648\n",
      "13265.165382688669\n"
     ]
    }
   ],
   "source": [
    "print(test_3[2])\n",
    "# So for these r=3 definetly looks better...\n",
    "print(np.abs(1e6*np.matmul(test_3[0][0],test_3[1][0])-V3))\n",
    "print(np.abs(1e6*np.matmul(test_3[0][3],test_3[1][3])-V3))\n",
    "# But the sum for r=6 is lower..?\n",
    "print(np.sum(np.abs(1e6*np.matmul(test_3[0][0],test_3[1][0])-V3)))\n",
    "print(np.sum(np.abs(1e6*np.matmul(test_3[0][3],test_3[1][3])-V3)))"
   ]
  },
  {
   "cell_type": "code",
   "execution_count": null,
   "metadata": {},
   "outputs": [],
   "source": []
  },
  {
   "cell_type": "code",
   "execution_count": 13,
   "metadata": {},
   "outputs": [
    {
     "ename": "NameError",
     "evalue": "name 'W_true' is not defined",
     "output_type": "error",
     "traceback": [
      "\u001b[0;31m---------------------------------------------------------------------------\u001b[0m",
      "\u001b[0;31mNameError\u001b[0m                                 Traceback (most recent call last)",
      "\u001b[0;32m<ipython-input-13-3566eaf13235>\u001b[0m in \u001b[0;36m<module>\u001b[0;34m\u001b[0m\n\u001b[0;32m----> 1\u001b[0;31m \u001b[0mprint\u001b[0m\u001b[0;34m(\u001b[0m\u001b[0mW_true\u001b[0m\u001b[0;34m.\u001b[0m\u001b[0msum\u001b[0m\u001b[0;34m(\u001b[0m\u001b[0maxis\u001b[0m\u001b[0;34m=\u001b[0m\u001b[0;36m1\u001b[0m\u001b[0;34m)\u001b[0m\u001b[0;34m)\u001b[0m\u001b[0;34m\u001b[0m\u001b[0;34m\u001b[0m\u001b[0m\n\u001b[0m\u001b[1;32m      2\u001b[0m \u001b[0mprint\u001b[0m\u001b[0;34m(\u001b[0m\u001b[0mtest\u001b[0m\u001b[0;34m[\u001b[0m\u001b[0;36m0\u001b[0m\u001b[0;34m]\u001b[0m\u001b[0;34m.\u001b[0m\u001b[0msum\u001b[0m\u001b[0;34m(\u001b[0m\u001b[0maxis\u001b[0m\u001b[0;34m=\u001b[0m\u001b[0;36m1\u001b[0m\u001b[0;34m)\u001b[0m\u001b[0;34m)\u001b[0m\u001b[0;34m\u001b[0m\u001b[0;34m\u001b[0m\u001b[0m\n\u001b[1;32m      3\u001b[0m \u001b[0mprint\u001b[0m\u001b[0;34m(\u001b[0m\u001b[0mtest\u001b[0m\u001b[0;34m[\u001b[0m\u001b[0;36m2\u001b[0m\u001b[0;34m]\u001b[0m\u001b[0;34m)\u001b[0m\u001b[0;34m\u001b[0m\u001b[0;34m\u001b[0m\u001b[0m\n\u001b[1;32m      4\u001b[0m \u001b[0;31m# print(np.mean(test[1], axis=1))\u001b[0m\u001b[0;34m\u001b[0m\u001b[0;34m\u001b[0m\u001b[0;34m\u001b[0m\u001b[0m\n",
      "\u001b[0;31mNameError\u001b[0m: name 'W_true' is not defined"
     ]
    }
   ],
   "source": [
    "print(W_true.sum(axis=1))\n",
    "print(test[0].sum(axis=1))\n",
    "print(test[2])\n",
    "# print(np.mean(test[1], axis=1))"
   ]
  },
  {
   "cell_type": "code",
   "execution_count": null,
   "metadata": {},
   "outputs": [],
   "source": [
    "print(H_true)\n",
    "print(test[1])"
   ]
  },
  {
   "cell_type": "code",
   "execution_count": null,
   "metadata": {},
   "outputs": [],
   "source": [
    "a = 1e6*np.matmul(test[0], test[1])\n",
    "b = V\n",
    "print(a)\n",
    "print(b)\n",
    "print(a-b)"
   ]
  },
  {
   "cell_type": "code",
   "execution_count": null,
   "metadata": {},
   "outputs": [],
   "source": [
    "# broadcast testing\n",
    "a = np.array([[1,2,3],[4,5,6]])\n",
    "a.sum(axis=1)"
   ]
  }
 ],
 "metadata": {
  "kernelspec": {
   "display_name": "Python 3",
   "language": "python",
   "name": "python3"
  },
  "language_info": {
   "codemirror_mode": {
    "name": "ipython",
    "version": 3
   },
   "file_extension": ".py",
   "mimetype": "text/x-python",
   "name": "python",
   "nbconvert_exporter": "python",
   "pygments_lexer": "ipython3",
   "version": "3.7.3"
  }
 },
 "nbformat": 4,
 "nbformat_minor": 2
}

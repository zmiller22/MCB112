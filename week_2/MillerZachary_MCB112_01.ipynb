{
 "cells": [
  {
   "cell_type": "markdown",
   "metadata": {},
   "source": [
    "# Problem Set 1: The case of the dead sand mouse"
   ]
  },
  {
   "cell_type": "markdown",
   "metadata": {},
   "source": [
    "### Part 1\n",
    "Start by opening the text files and reading each line. For each line, parse the line into a list of strings for the parts we care about and then add the list to a main list to create a 2d list of strings for each text file."
   ]
  },
  {
   "cell_type": "code",
   "execution_count": 1,
   "metadata": {},
   "outputs": [],
   "source": [
    "import numpy as np\n",
    "import matplotlib.pyplot as plt\n",
    "import my_functions as mf\n",
    "import math \n",
    "%matplotlib inline\n",
    "\n",
    "def get_k_largest(array, k):\n",
    "    \"\"\"Takes in a 1d numpy array and gives back\n",
    "    an array of indexes of the k largest elements\"\"\"\n",
    "    \n",
    "    idxs = np.argpartition(array,-k)\n",
    "    return idxs[-k:]\n",
    "    \n",
    "\n",
    "# Open the text files\n",
    "ms1 = open(\"Moriarty_SuppTable1.txt\")\n",
    "as2 = open(\"Adler_SuppTable2.txt\")\n",
    "\n",
    "ms1_list = []\n",
    "as2_list = []\n",
    "\n",
    "# Read the files line by line, parsing each line and adding it to\n",
    "# the list of strings\n",
    "for line in ms1:\n",
    "    if line[0] == '#': continue \n",
    "    line = line.rstrip('\\n')      \n",
    "    line = line.split()\n",
    "    ms1_list.append(line)\n",
    "\n",
    "for line in as2:\n",
    "    if line[0] == '#': continue\n",
    "    line = line.rstrip('\\n')      \n",
    "    line = line.split()\n",
    "    as2_list.append(line)\n",
    "    \n",
    "# Close the files\n",
    "ms1.close()\n",
    "as2.close()\n",
    "    "
   ]
  },
  {
   "cell_type": "markdown",
   "metadata": {},
   "source": [
    "Now, we can use the lists  we created in the previous step to create a numpy array containing the gene names and a numpy array containing the data for each list. Within each set of two arrays, the gene names and their corresponding data are linked by sharing the same index within their arrays. This will allow us to access the gene name associated with a piece of data that we find interesting, and vice versa."
   ]
  },
  {
   "cell_type": "code",
   "execution_count": 2,
   "metadata": {},
   "outputs": [
    {
     "name": "stdout",
     "output_type": "stream",
     "text": [
      "(20031, 5)\n",
      "(20031, 2)\n"
     ]
    }
   ],
   "source": [
    "# Create numpy arrays of the names    \n",
    "ms1_names = np.asarray([i[0] for i in ms1_list])\n",
    "as2_names = np.asarray([i[0] for i in as2_list])\n",
    "\n",
    "# Grab the data portions of the list and create a numpy array of type \n",
    "# float\n",
    "ms1_data = np.asarray([i[1:len(ms1_list[1])] for i in ms1_list])\n",
    "ms1_data = ms1_data.astype(np.float)\n",
    "\n",
    "as2_data = np.asarray([i[1:len(as2_list[1])] for i in as2_list])\n",
    "as2_data = as2_data.astype(np.float)\n",
    "\n",
    "# Check to make sure the arrays have the expected dimensions\n",
    "print(ms1_data.shape)\n",
    "print(as2_data.shape)"
   ]
  },
  {
   "cell_type": "markdown",
   "metadata": {},
   "source": [
    "Now we create an array of gene names that are in `ms1_names` but not in `as2_names`."
   ]
  },
  {
   "cell_type": "code",
   "execution_count": 3,
   "metadata": {},
   "outputs": [
    {
     "name": "stdout",
     "output_type": "stream",
     "text": [
      "There are 26 non-matching names in Maoriarties dataset\n",
      "The non-matching names are:\n",
      "['1-Dec' '1-Mar' '1-Sep' '10-Mar' '10-Sep' '11-Mar' '11-Sep' '12-Sep'\n",
      " '14-Sep' '15-Sep' '2-Mar' '2-Sep' '3-Mar' '3-Sep' '4-Mar' '4-Sep' '5-Mar'\n",
      " '5-Sep' '6-Mar' '6-Sep' '7-Mar' '7-Sep' '8-Mar' '8-Sep' '9-Mar' '9-Sep']\n"
     ]
    }
   ],
   "source": [
    "# Get an array of names that appear in ms1 but not as2\n",
    "extra_names = np.setdiff1d(ms1_names, as2_names)\n",
    "print(\"There are \" + str(len(extra_names)) + \" non-matching names in Maoriarties dataset\" + \n",
    "      \"\\nThe non-matching names are:\\n\" + str(extra_names))"
   ]
  },
  {
   "cell_type": "markdown",
   "metadata": {},
   "source": [
    "We see that there are 26 gene names in Moriarty's data that do not appear in Adler's data. Taking a closer look at those gene names, it appears that Moriarty's data was indeed affected by the Excel default naming settings that turn gene names into dates, thus irreversibly corrupting those gene names. "
   ]
  },
  {
   "cell_type": "markdown",
   "metadata": {},
   "source": [
    "### Part 2\n",
    "Next, we will find the five genes with the highest mRNA synthesis rates, longest mRNA half lifes, and highest ratio of expression at t=96 vs t=0 hours using the numpy arrays we created in the previous part. Here I use a function I wrote called `get_k_largest` that returns the indexes of the k-largest elements of a 1d numpy array. Using these indices, I got the genes of interest along with their data of interest and put them into one 2d array together. This was done for each of the 3 metrics that we cared about."
   ]
  },
  {
   "cell_type": "code",
   "execution_count": 4,
   "metadata": {},
   "outputs": [
    {
     "name": "stdout",
     "output_type": "stream",
     "text": [
      "Genes with highest mRNA synthesis rates\n",
      "[['AL513412.1' '68.4']\n",
      " ['quince' '73.1']\n",
      " ['ARHGAP11B' '76.1']\n",
      " ['YTHDF1' '243.6']\n",
      " ['PLD4' '249.5']] \n",
      "\n",
      "Genes with longest mRNA half-lifes\n",
      "[['FLYWCH1' '53.6']\n",
      " ['CLDN14' '58.1']\n",
      " ['OR52I1' '61.9']\n",
      " ['SEZ6' '76.1']\n",
      " ['FBXO30' '71.3']] \n",
      "\n",
      "Genes with highest expression ratios\n",
      "[['FLYWCH1' '21.13505747126437']\n",
      " ['OR52I1' '22.939712918660284']\n",
      " ['CLDN14' '25.13122171945701']\n",
      " ['SEZ6' '32.131670131670134']\n",
      " ['FBXO30' '26.966745375836286']]\n"
     ]
    }
   ],
   "source": [
    "# Calculate the expression ratios and store as a column vector\n",
    "expr_ratios_96 = np.divide(ms1_data[:,4], ms1_data[:,0])\n",
    "\n",
    "# Get the largest element for each data we care about and concatenate\n",
    "# the columns to get a column of the gene name and a column of the data\n",
    "# associated with that gene name for each data type\n",
    "highest_synth_idxs = get_k_largest(as2_data[:,0], 5)\n",
    "longest_hl_idxs = get_k_largest(as2_data[:,1], 5)\n",
    "highest_expr_ratio_idxs = get_k_largest(expr_ratios_96[:,], 5)\n",
    "\n",
    "highest_synth_names = as2_names[highest_synth_idxs[:],].reshape(5,1)\n",
    "highest_synth_rates = as2_data[highest_synth_idxs[:],0].reshape(5,1)\n",
    "highest_synth_genes = np.concatenate((highest_synth_names, highest_synth_rates), axis=1)\n",
    "\n",
    "longest_hl_names = as2_names[longest_hl_idxs[:],].reshape(5,1)\n",
    "longest_hl_times = as2_data[longest_hl_idxs[:],1].reshape(5,1)\n",
    "longest_hl_genes = np.concatenate((longest_hl_names, longest_hl_times), axis=1)\n",
    "\n",
    "highest_expr_ratio_names = ms1_names[highest_expr_ratio_idxs[:],].reshape(5,1)\n",
    "highest_expr_ratio_nums = expr_ratios_96[highest_expr_ratio_idxs[:],].reshape(5,1)\n",
    "highest_expr_ratio_genes = np.concatenate((highest_expr_ratio_names, highest_expr_ratio_nums), axis=1)\n",
    "\n",
    "print(\"Genes with highest mRNA synthesis rates\")\n",
    "print(highest_synth_genes,\"\\n\")\n",
    "print(\"Genes with longest mRNA half-lifes\")\n",
    "print(longest_hl_genes,\"\\n\")\n",
    "print(\"Genes with highest expression ratios\")\n",
    "print(highest_expr_ratio_genes)"
   ]
  },
  {
   "cell_type": "markdown",
   "metadata": {},
   "source": [
    "Notice that the 5 genes with the longest half-lifes are the same as the 5 genes with the greatest expression ratios at t=0 vs t=96. "
   ]
  },
  {
   "cell_type": "markdown",
   "metadata": {},
   "source": [
    "### Part 3\n",
    "Next, we want to merge all the overlapping data from Moriarty and Adler, which we will then write to a text file."
   ]
  },
  {
   "cell_type": "code",
   "execution_count": 5,
   "metadata": {},
   "outputs": [],
   "source": [
    "# Calculate the rest of the expression ratios and merge all 4 into one nx4 array\n",
    "expr_ratios_12 = np.divide(ms1_data[:,1], ms1_data[:,0])\n",
    "expr_ratios_24 = np.divide(ms1_data[:,2], ms1_data[:,0])\n",
    "expr_ratios_48 = np.divide(ms1_data[:,3], ms1_data[:,0])\n",
    "\n",
    "# Concatenate all the expr_ratios together\n",
    "row_num = len(expr_ratios_12)\n",
    "expr_ratios_all = np.concatenate((expr_ratios_12.reshape(row_num,1), expr_ratios_24.reshape(row_num,1), \n",
    "                                  expr_ratios_48.reshape(row_num,1), expr_ratios_96.reshape(row_num,1)), \n",
    "                                 axis=1)\n",
    "\n",
    "# Create and open a text file to write the new data to adn write a header line\n",
    "file = open(\"merged_data.txt\", \"w\")\n",
    "file.write('{:<15} {:<15} {:<15} {:<15} {:<15} {:<15} {:<15}\\n'.format(\"# Gene Name\",\n",
    "                                                                    \"12 hr ratio\",\n",
    "                                                                    \"24 hr ratio\",\n",
    "                                                                    \"48 hr ratio\",\n",
    "                                                                    \"96 hr ratio\",\n",
    "                                                                    \"synthesis-rate\",\n",
    "                                                                    \"half-life\"))\n",
    "\n",
    "# Iterate over every name in ms1_names\n",
    "for idx, name in enumerate(ms1_names):\n",
    "    if np.isin(name, extra_names):\n",
    "        continue\n",
    "    else:\n",
    "        # Create a list of strings for each gene that\n",
    "        # exists in both ms1 and as2\n",
    "        string_list = []\n",
    "        string_list.append(name)\n",
    "        \n",
    "        # Add all the TPM ratios to the list\n",
    "        for number in expr_ratios_all[idx,:]:\n",
    "            string_list.append(str(round(number, 2)))\n",
    "            \n",
    "        # Go find the cooresponding synthesis rate and \n",
    "        # half life and add them to the list\n",
    "        as2_idx, = np.where(as2_names==name)\n",
    "        for number in as2_data[as2_idx,:]:\n",
    "            string_list.append(str(round(number[0],2)))\n",
    "            string_list.append(str(round(number[1],2)))\n",
    "            \n",
    "        # Use the string_list to create a string formatted to be \n",
    "        # column justified and write that string to the text file\n",
    "        file.write('{:<15} {:<15} {:<15} {:<15} {:<15} {:<15} {:<15}\\n'.format(string_list[0],\n",
    "                                                                    string_list[1],\n",
    "                                                                    string_list[2],\n",
    "                                                                    string_list[3],\n",
    "                                                                    string_list[4],\n",
    "                                                                    string_list[5],\n",
    "                                                                    string_list[6]))\n",
    "# Close the file\n",
    "file.close()"
   ]
  },
  {
   "cell_type": "markdown",
   "metadata": {},
   "source": [
    "Opening up the text file and skimming it, it appears that all the data was entered correctly. Thinking back to earlier, it seems suspicous that the mRNA with the longest half-life was also the mRNA with the highest expression ratio over the expirement. To see if there is a relationship between the two, we make a scatter plot of half-life vs expression ratio for each gene."
   ]
  },
  {
   "cell_type": "code",
   "execution_count": 6,
   "metadata": {},
   "outputs": [
    {
     "data": {
      "image/png": "[encoded data removed]",
      "text/plain": [
       "<Figure size 432x288 with 1 Axes>"
      ]
     },
     "metadata": {
      "needs_background": "light"
     },
     "output_type": "display_data"
    }
   ],
   "source": [
    "file = open(\"merged_data.txt\", \"r\")\n",
    "\n",
    "hl_list = []\n",
    "expr_96_list = []\n",
    "for line in file:\n",
    "    if line[0] == '#': continue\n",
    "    line = line.rstrip('\\n')      \n",
    "    line = line.split()\n",
    "    hl_list.append(float(line[6]))\n",
    "    expr_96_list.append(float(line[4]))\n",
    "    \n",
    "fig = plt.figure()\n",
    "ax = plt.gca()\n",
    "ax.scatter(expr_96_list, hl_list)\n",
    "\n",
    "plt.title(\"mRNA 96h Ratio vs Half Life\")\n",
    "plt.xlabel(\"96hr/0hr expression\")\n",
    "plt.ylabel(\"Half Life\")\n",
    "plt.show()"
   ]
  },
  {
   "cell_type": "markdown",
   "metadata": {},
   "source": [
    "We see that the relationship between the 96 hour expression ratio and the half life are closely related in a logrithmic fashion. Let's take a look at the relationshop when we plot in log scale."
   ]
  },
  {
   "cell_type": "code",
   "execution_count": 7,
   "metadata": {},
   "outputs": [
    {
     "data": {
      "image/png": "[encoded data removed]",
      "text/plain": [
       "<Figure size 432x288 with 1 Axes>"
      ]
     },
     "metadata": {
      "needs_background": "light"
     },
     "output_type": "display_data"
    }
   ],
   "source": [
    "fig = plt.figure()\n",
    "ax = plt.gca()\n",
    "ax.scatter(expr_96_list, hl_list)\n",
    "ax.set_xscale('log', basex=2)\n",
    "ax.set_yscale('log', basey=2)\n",
    "ax.set_xlim(left=1, right=40)\n",
    "plt.title(\"Log scale mRNA 96h Ratio vs Half Life\")\n",
    "plt.xlabel(\"96hr/0hr expression (logrithmic)\")\n",
    "plt.ylabel(\"Half Life (logrithmic)\")\n",
    "plt.show()"
   ]
  },
  {
   "cell_type": "markdown",
   "metadata": {},
   "source": [
    "Indeed, we see that the relationship between the logscales of half-life and expression ratio is almost perfectly linear. If we do some thinking, this offers an alternative explanation for why Moriarty got the results that he did. For a living animal, the amount of mRNA expression in TPM depends on a balance between the synthesis rate and the half-life for a particular mRNA. If we assume that all mRNA synthesis stops at the time of death, as we beleive should be the case, then the ratio of mRNA at t=0 vs time after death would depend only on the half-life. Now if we think about the fact that we are measuring mRNA in TPMs, which is a relative measure, then we will realize that the *relative* amount of mRNA for an mRNA with a long-half life will go up compared to mRNA with a short half-life. Therefore, even if the overall counts of mRNA are going down after death, the relative amounts may be going up, as is the case for mRNA with very long half-lives. Thus, we have an alternative, and much more likely, explanation for the seemingly strange results of Moriarties expirement, \n"
   ]
  }
 ],
 "metadata": {
  "kernelspec": {
   "display_name": "Python 3",
   "language": "python",
   "name": "python3"
  },
  "language_info": {
   "codemirror_mode": {
    "name": "ipython",
    "version": 3
   },
   "file_extension": ".py",
   "mimetype": "text/x-python",
   "name": "python",
   "nbconvert_exporter": "python",
   "pygments_lexer": "ipython3",
   "version": "3.7.3"
  }
 },
 "nbformat": 4,
 "nbformat_minor": 2
}

{
 "cells": [
  {
   "cell_type": "code",
   "execution_count": 1,
   "metadata": {},
   "outputs": [],
   "source": [
    "import numpy as np\n",
    "import re\n",
    "import math \n",
    "import scipy.stats as stats\n",
    "from scipy.optimize import minimize"
   ]
  },
  {
   "cell_type": "code",
   "execution_count": 2,
   "metadata": {},
   "outputs": [],
   "source": [
    "def get_data(datafile):\n",
    "    \"\"\"COPIED FROM MORIARTY AND TWEAKED\n",
    "    N         : number of experiments (columns in the table)\n",
    "    G         : number of genes (rows in the table)\n",
    "    X[i]      : array of time points, in hrs, for the N experiments\n",
    "    S_true[i] : array of sigmas for the experiments\n",
    "    Y[i][t]   : GxN: observed tpm for gene i, time point t\"\"\"\n",
    "    with open(datafile) as f:\n",
    "        # First header line gives us the time points\n",
    "        fields = f.readline().split()\n",
    "        X = []\n",
    "        for s in fields:\n",
    "            match = re.search(r'^(\\d+)hr', s)\n",
    "            X.append(int(match.group(1)))\n",
    "        X = np.array(X)\n",
    "        N = len(X)\n",
    "\n",
    "        # Second header line gives us \"gene\" followed by +=SD's\n",
    "        fields = f.readline().split()\n",
    "        S_true = np.zeros(N)\n",
    "        for i,s in enumerate(fields[1:]):\n",
    "            match = re.search(r'^\\+-(\\d+)', s)\n",
    "            S_true[i] = float(match.group(1))\n",
    "\n",
    "        # Third header line is just ------ stuff\n",
    "        f.readline()\n",
    "\n",
    "        # Remaining lines are data\n",
    "        genenames = []\n",
    "        Y = []\n",
    "        for line in f.readlines():\n",
    "            fields = line.split()\n",
    "            genenames.append(fields[0])\n",
    "            Y.append( np.array( [ float(s) for s in fields[1:]] ))\n",
    "        G = len(Y)\n",
    "        \n",
    "    return X, S_true, Y\n",
    "\n",
    "def calc_mean_for_normal(a, b, phi, t):\n",
    "    \"\"\"Given paramters a, b, and phi, plus a time point t, calculates the mean for the gaussian according to\n",
    "    the model from MCB112 PSET 7\"\"\"\n",
    "    rads = 2*math.pi*(1/24)*(t+phi)\n",
    "    mean = b + a*math.sin(rads)\n",
    "    \n",
    "    return mean\n",
    "    \n",
    "\n",
    "def calc_nll(params, data_vec, sigma_vec, time_vec):\n",
    "    \"\"\"Given a numpy array of paramters in the order [a, b, phi], as well as a vector of the data, a vector\n",
    "    of the sigmas for each data point, and a vector of the time of each data point, calculates the negative \n",
    "    log likelyhood \"\"\"\n",
    "    a, b, phi = params[0], params[1], params[2]\n",
    "    log_probs_list = []\n",
    "    for z, x_z in enumerate(data_vec):\n",
    "        mean = calc_mean_for_normal(a, b, phi, time_vec[z])\n",
    "        sigma = sigma_vec[z]\n",
    "        log_probs_list.append(stats.norm.logpdf(x_z, mean, sigma))\n",
    "        \n",
    "    nll = -sum(log_probs_list)\n",
    "    \n",
    "    return nll\n",
    "        "
   ]
  },
  {
   "cell_type": "code",
   "execution_count": 3,
   "metadata": {},
   "outputs": [],
   "source": [
    "data_list = get_data(\"w07-data.tbl\")"
   ]
  },
  {
   "cell_type": "code",
   "execution_count": 7,
   "metadata": {},
   "outputs": [],
   "source": [
    "time_arr, sigma_arr, data_arr = data_list[0], data_list[1], data_list[2]\n",
    "a0, b0, phi0 = 1, 1, 1\n",
    "start_params = np.array([a0,b0,phi0])\n",
    "\n",
    "test = calc_nll([a0, b0, phi0], data_arr[0], sigma_arr, time_arr)\n",
    "test_2 = minimize(calc_nll, start_params, (data_arr[0], sigma_arr, time_arr))"
   ]
  },
  {
   "cell_type": "code",
   "execution_count": 8,
   "metadata": {},
   "outputs": [
    {
     "data": {
      "text/plain": [
       "      fun: 29.60821751108932\n",
       " hess_inv: array([[ 5.95189068, -2.92619351,  0.11507657],\n",
       "       [-2.92619351,  4.66253345, -0.55354949],\n",
       "       [ 0.11507657, -0.55354949,  0.154222  ]])\n",
       "      jac: array([-9.53674316e-07, -2.38418579e-06, -3.81469727e-06])\n",
       "  message: 'Optimization terminated successfully.'\n",
       "     nfev: 85\n",
       "      nit: 13\n",
       "     njev: 17\n",
       "   status: 0\n",
       "  success: True\n",
       "        x: array([24.30624777, 41.08230173,  0.32553572])"
      ]
     },
     "execution_count": 8,
     "metadata": {},
     "output_type": "execute_result"
    }
   ],
   "source": [
    "test_2"
   ]
  },
  {
   "cell_type": "code",
   "execution_count": 9,
   "metadata": {},
   "outputs": [],
   "source": [
    "test_3 = minimize(calc_nll, start_params, (data_arr[0], sigma_arr, time_arr))"
   ]
  },
  {
   "cell_type": "code",
   "execution_count": 10,
   "metadata": {},
   "outputs": [
    {
     "data": {
      "text/plain": [
       "      fun: 29.60821751108932\n",
       " hess_inv: array([[ 5.95189068, -2.92619351,  0.11507657],\n",
       "       [-2.92619351,  4.66253345, -0.55354949],\n",
       "       [ 0.11507657, -0.55354949,  0.154222  ]])\n",
       "      jac: array([-9.53674316e-07, -2.38418579e-06, -3.81469727e-06])\n",
       "  message: 'Optimization terminated successfully.'\n",
       "     nfev: 85\n",
       "      nit: 13\n",
       "     njev: 17\n",
       "   status: 0\n",
       "  success: True\n",
       "        x: array([24.30624777, 41.08230173,  0.32553572])"
      ]
     },
     "execution_count": 10,
     "metadata": {},
     "output_type": "execute_result"
    }
   ],
   "source": [
    "test_3"
   ]
  }
 ],
 "metadata": {
  "kernelspec": {
   "display_name": "Python 3",
   "language": "python",
   "name": "python3"
  },
  "language_info": {
   "codemirror_mode": {
    "name": "ipython",
    "version": 3
   },
   "file_extension": ".py",
   "mimetype": "text/x-python",
   "name": "python",
   "nbconvert_exporter": "python",
   "pygments_lexer": "ipython3",
   "version": "3.7.3"
  }
 },
 "nbformat": 4,
 "nbformat_minor": 2
}
